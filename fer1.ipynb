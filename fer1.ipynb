{
  "nbformat": 4,
  "nbformat_minor": 0,
  "metadata": {
    "colab": {
      "name": "fer1.ipynb",
      "provenance": [],
      "collapsed_sections": [],
      "authorship_tag": "ABX9TyPp1Rv0Z0ezI+vDr6ZTQsoQ",
      "include_colab_link": true
    },
    "kernelspec": {
      "name": "python3",
      "display_name": "Python 3"
    },
    "accelerator": "GPU"
  },
  "cells": [
    {
      "cell_type": "markdown",
      "metadata": {
        "id": "view-in-github",
        "colab_type": "text"
      },
      "source": [
        "<a href=\"https://colab.research.google.com/github/godha112/fer/blob/master/fer1.ipynb\" target=\"_parent\"><img src=\"https://colab.research.google.com/assets/colab-badge.svg\" alt=\"Open In Colab\"/></a>"
      ]
    },
    {
      "cell_type": "code",
      "metadata": {
        "id": "tc6a3ABa4eyE",
        "colab_type": "code",
        "outputId": "fa1ed0a7-0e71-496c-dde9-1cbd51073807",
        "colab": {
          "base_uri": "https://localhost:8080/",
          "height": 35
        }
      },
      "source": [
        "import numpy as np\n",
        "import pandas as pd\n",
        "from matplotlib import pyplot as plt\n",
        "from keras.models import Sequential\n",
        "from keras.layers import AveragePooling2D, Dense, Activation, ZeroPadding2D, BatchNormalization, Flatten, Conv2D, MaxPooling2D, Dropout\n",
        "from keras.preprocessing import image\n",
        "from keras.utils.np_utils import to_categorical\n",
        "from sklearn.model_selection import train_test_split\n",
        "from google.colab import drive"
      ],
      "execution_count": 1,
      "outputs": [
        {
          "output_type": "stream",
          "text": [
            "Using TensorFlow backend.\n"
          ],
          "name": "stderr"
        }
      ]
    },
    {
      "cell_type": "code",
      "metadata": {
        "id": "VMZtqKiV5Q8K",
        "colab_type": "code",
        "outputId": "87e419b8-5317-4e4d-989e-59bfb001c329",
        "colab": {
          "base_uri": "https://localhost:8080/",
          "height": 126
        }
      },
      "source": [
        "drive.mount('/content/drive')"
      ],
      "execution_count": 2,
      "outputs": [
        {
          "output_type": "stream",
          "text": [
            "Go to this URL in a browser: https://accounts.google.com/o/oauth2/auth?client_id=947318989803-6bn6qk8qdgf4n4g3pfee6491hc0brc4i.apps.googleusercontent.com&redirect_uri=urn%3aietf%3awg%3aoauth%3a2.0%3aoob&response_type=code&scope=email%20https%3a%2f%2fwww.googleapis.com%2fauth%2fdocs.test%20https%3a%2f%2fwww.googleapis.com%2fauth%2fdrive%20https%3a%2f%2fwww.googleapis.com%2fauth%2fdrive.photos.readonly%20https%3a%2f%2fwww.googleapis.com%2fauth%2fpeopleapi.readonly\n",
            "\n",
            "Enter your authorization code:\n",
            "··········\n",
            "Mounted at /content/drive\n"
          ],
          "name": "stdout"
        }
      ]
    },
    {
      "cell_type": "code",
      "metadata": {
        "id": "ASzWLuXzJDTF",
        "colab_type": "code",
        "colab": {}
      },
      "source": [
        "path = '/content/drive/My Drive/fer data/train.csv'\n",
        "train = pd.read_csv(path) "
      ],
      "execution_count": 0,
      "outputs": []
    },
    {
      "cell_type": "code",
      "metadata": {
        "id": "uhLs5e9gLNCT",
        "colab_type": "code",
        "colab": {}
      },
      "source": [
        "emotions = ['Angry','Disgust','Fear','Happy','Sad','Surprise','Neutral']"
      ],
      "execution_count": 0,
      "outputs": []
    },
    {
      "cell_type": "code",
      "metadata": {
        "id": "rLc6XRLHNY-0",
        "colab_type": "code",
        "colab": {}
      },
      "source": [
        "def string_to_img(data):\n",
        "    datapoints = data['pixels'].tolist()\n",
        "    x = []\n",
        "    for i in datapoints:\n",
        "        xx = [int(j) for j in i.split(' ')]\n",
        "        xx = np.array(xx).reshape(48,48)\n",
        "        x.append(xx.astype('float32'))\n",
        "    x = np.array(x)\n",
        "    y = data.iloc[:,0].values\n",
        "    return x,y"
      ],
      "execution_count": 0,
      "outputs": []
    },
    {
      "cell_type": "code",
      "metadata": {
        "id": "k4a4dCxoNbes",
        "colab_type": "code",
        "colab": {}
      },
      "source": [
        "X_train, Y_train = string_to_img(train)"
      ],
      "execution_count": 0,
      "outputs": []
    },
    {
      "cell_type": "code",
      "metadata": {
        "id": "Ix8XJc7-NeBF",
        "colab_type": "code",
        "colab": {
          "base_uri": "https://localhost:8080/",
          "height": 35
        },
        "outputId": "36a1646f-ca80-47f6-9dc6-f090cec91fee"
      },
      "source": [
        "Y_train.shape"
      ],
      "execution_count": 17,
      "outputs": [
        {
          "output_type": "execute_result",
          "data": {
            "text/plain": [
              "(28709,)"
            ]
          },
          "metadata": {
            "tags": []
          },
          "execution_count": 17
        }
      ]
    },
    {
      "cell_type": "code",
      "metadata": {
        "id": "0-Nkvk99ODgt",
        "colab_type": "code",
        "colab": {
          "base_uri": "https://localhost:8080/",
          "height": 248
        },
        "outputId": "f44682e0-5df4-41df-e17e-0cba40549a33"
      },
      "source": [
        "for i in range(4):\n",
        "    plt.subplot(2,2,i+1)\n",
        "    plt.imshow(X_train[i],cmap=plt.get_cmap('gray'))\n",
        "    plt.axis('off')"
      ],
      "execution_count": 18,
      "outputs": [
        {
          "output_type": "display_data",
          "data": {
            "image/png": "[encoded data removed]",
            "text/plain": [
              "<Figure size 432x288 with 4 Axes>"
            ]
          },
          "metadata": {
            "tags": [],
            "needs_background": "light"
          }
        }
      ]
    },
    {
      "cell_type": "code",
      "metadata": {
        "id": "dlamNWOGOFrs",
        "colab_type": "code",
        "colab": {
          "base_uri": "https://localhost:8080/",
          "height": 124
        },
        "outputId": "0c42131c-ce34-49fa-de02-529f21f5e970"
      },
      "source": [
        "X_train,X_test,Y_train,Y_test = train_test_split(X_train,Y_train,test_size=0.1,random_state=42)\n",
        "X_train,X_val,Y_train,Y_val = train_test_split(X_train,Y_train,test_size=0.1,random_state=41)\n",
        "print(X_train.shape)\n",
        "print(Y_train.shape)\n",
        "print(X_test.shape)\n",
        "print(Y_test.shape)\n",
        "print(X_val.shape)\n",
        "print(Y_val.shape)"
      ],
      "execution_count": 19,
      "outputs": [
        {
          "output_type": "stream",
          "text": [
            "(23254, 48, 48)\n",
            "(23254,)\n",
            "(2871, 48, 48)\n",
            "(2871,)\n",
            "(2584, 48, 48)\n",
            "(2584,)\n"
          ],
          "name": "stdout"
        }
      ]
    },
    {
      "cell_type": "code",
      "metadata": {
        "id": "e6Ipu9fAOIH7",
        "colab_type": "code",
        "colab": {
          "base_uri": "https://localhost:8080/",
          "height": 124
        },
        "outputId": "49105fab-af75-4236-ee7d-dab4950bf060"
      },
      "source": [
        "x_train, y_train = X_train, Y_train\n",
        "x_val, y_val = X_val, Y_val\n",
        "x_test, y_test = X_test, Y_test\n",
        "print(x_train.shape)\n",
        "print(y_train.shape)\n",
        "print(x_val.shape)\n",
        "print(y_val.shape)\n",
        "print(x_test.shape)\n",
        "print(y_test.shape)"
      ],
      "execution_count": 20,
      "outputs": [
        {
          "output_type": "stream",
          "text": [
            "(23254, 48, 48)\n",
            "(23254,)\n",
            "(2584, 48, 48)\n",
            "(2584,)\n",
            "(2871, 48, 48)\n",
            "(2871,)\n"
          ],
          "name": "stdout"
        }
      ]
    },
    {
      "cell_type": "code",
      "metadata": {
        "id": "0RKiPhHYOTMy",
        "colab_type": "code",
        "colab": {
          "base_uri": "https://localhost:8080/",
          "height": 52
        },
        "outputId": "fc6f8b3a-4aed-4d3e-b6cc-8f7b7f07ae65"
      },
      "source": [
        "x_train -= np.mean(X_train, axis=0)\n",
        "x_train /= np.std(x_train, axis=0)\n",
        "x_train = np.resize(x_train,(x_train.shape[0],48,48,1))\n",
        "y_train = to_categorical(Y_train)\n",
        "print(x_train.shape)\n",
        "print(y_train.shape)"
      ],
      "execution_count": 21,
      "outputs": [
        {
          "output_type": "stream",
          "text": [
            "(23254, 48, 48, 1)\n",
            "(23254, 7)\n"
          ],
          "name": "stdout"
        }
      ]
    },
    {
      "cell_type": "code",
      "metadata": {
        "id": "AkY9b1z6OVtp",
        "colab_type": "code",
        "colab": {
          "base_uri": "https://localhost:8080/",
          "height": 52
        },
        "outputId": "5faf42bd-fffa-40c9-a1ec-a6f8cb6dcbae"
      },
      "source": [
        "x_test -= np.mean(X_test, axis=0)\n",
        "x_test /= np.std(x_test, axis=0)\n",
        "x_test = np.resize(x_test,(x_test.shape[0],48,48,1))\n",
        "y_test = to_categorical(Y_test)\n",
        "print(x_test.shape)\n",
        "print(y_test.shape)"
      ],
      "execution_count": 22,
      "outputs": [
        {
          "output_type": "stream",
          "text": [
            "(2871, 48, 48, 1)\n",
            "(2871, 7)\n"
          ],
          "name": "stdout"
        }
      ]
    },
    {
      "cell_type": "code",
      "metadata": {
        "id": "lanfhRprdQ16",
        "colab_type": "code",
        "colab": {
          "base_uri": "https://localhost:8080/",
          "height": 52
        },
        "outputId": "d5b3c55b-a575-4363-a860-9ac6fc986d80"
      },
      "source": [
        "x_val -= np.mean(X_val, axis=0)\n",
        "x_val /= np.std(x_val, axis=0)\n",
        "x_val = np.resize(x_val,(x_val.shape[0],48,48,1))\n",
        "y_val = to_categorical(Y_val)\n",
        "print(x_val.shape)\n",
        "print(y_val.shape)"
      ],
      "execution_count": 23,
      "outputs": [
        {
          "output_type": "stream",
          "text": [
            "(2584, 48, 48, 1)\n",
            "(2584, 7)\n"
          ],
          "name": "stdout"
        }
      ]
    },
    {
      "cell_type": "code",
      "metadata": {
        "id": "fsiOATWAdPQH",
        "colab_type": "code",
        "colab": {}
      },
      "source": [
        "from keras.preprocessing.image import ImageDataGenerator\n",
        "\n",
        "datagen = ImageDataGenerator(\n",
        "        featurewise_center=False,  \n",
        "        samplewise_center=False,  \n",
        "        featurewise_std_normalization=False,  \n",
        "        samplewise_std_normalization=False,  \n",
        "        zca_whitening=False,  \n",
        "        rotation_range=10,  \n",
        "        zoom_range = 0.0,  \n",
        "        width_shift_range=0.1,  \n",
        "        height_shift_range=0.1,  \n",
        "        horizontal_flip=True, \n",
        "        vertical_flip=False,fill_mode = 'nearest')  \n",
        "datagen.fit(x_train)"
      ],
      "execution_count": 0,
      "outputs": []
    },
    {
      "cell_type": "code",
      "metadata": {
        "id": "TjwKCeOAfsTc",
        "colab_type": "code",
        "colab": {}
      },
      "source": [
        "train_it = datagen.flow(x_train, y_train, batch_size=64)"
      ],
      "execution_count": 0,
      "outputs": []
    },
    {
      "cell_type": "code",
      "metadata": {
        "id": "xjlKX__ngkjL",
        "colab_type": "code",
        "colab": {}
      },
      "source": [
        "from keras.callbacks import ReduceLROnPlateau\n",
        "lr_reduce = ReduceLROnPlateau(monitor='val_loss', factor=0.2, patience=5, min_lr=0.0001)"
      ],
      "execution_count": 0,
      "outputs": []
    },
    {
      "cell_type": "code",
      "metadata": {
        "id": "yfD1ySYtOaIH",
        "colab_type": "code",
        "colab": {}
      },
      "source": [
        "model = Sequential()\n",
        "\n",
        "model.add(Conv2D(filters = 64, input_shape = (48,48,1), kernel_size = 3, activation = 'relu', padding = 'same'))\n",
        "model.add(BatchNormalization())\n",
        "model.add(Conv2D(filters = 64, kernel_size = 3, activation = 'relu', padding = 'same'))\n",
        "model.add(BatchNormalization())\n",
        "model.add(MaxPooling2D(pool_size=2))\n",
        "model.add(Dropout(0.5))\n",
        "\n",
        "model.add(Conv2D(filters = 128, kernel_size = 3, activation = 'relu', padding = 'same'))\n",
        "model.add(BatchNormalization())\n",
        "model.add(Conv2D(filters = 128, kernel_size = 3, activation = 'relu', padding = 'same'))\n",
        "model.add(BatchNormalization())\n",
        "model.add(MaxPooling2D(pool_size=2))\n",
        "model.add(Dropout(0.5))\n",
        "\n",
        "model.add(Conv2D(filters = 256, kernel_size = 3, activation = 'relu', padding = 'same'))\n",
        "model.add(BatchNormalization())\n",
        "model.add(Conv2D(filters = 256, kernel_size = 3, activation = 'relu', padding = 'same'))\n",
        "model.add(BatchNormalization())\n",
        "model.add(Conv2D(filters = 256, kernel_size = 3, activation = 'relu', padding = 'same'))\n",
        "model.add(BatchNormalization())\n",
        "model.add(MaxPooling2D(pool_size=2))\n",
        "model.add(Dropout(0.5))\n",
        "\n",
        "model.add(Conv2D(filters = 512, kernel_size = 3, activation = 'relu', padding = 'same'))\n",
        "model.add(BatchNormalization())\n",
        "model.add(Conv2D(filters = 512, kernel_size = 3, activation = 'relu', padding = 'same'))\n",
        "model.add(BatchNormalization())\n",
        "model.add(Conv2D(filters = 512, kernel_size = 3, activation = 'relu', padding = 'same'))\n",
        "model.add(BatchNormalization())\n",
        "model.add(MaxPooling2D(pool_size=2))\n",
        "model.add(Dropout(0.5))\n",
        "\n",
        "model.add(Conv2D(filters = 512, kernel_size = 3, activation = 'relu', padding = 'same'))\n",
        "model.add(BatchNormalization())\n",
        "model.add(Conv2D(filters = 512, kernel_size = 3, activation = 'relu', padding = 'same'))\n",
        "model.add(BatchNormalization())\n",
        "model.add(Conv2D(filters = 512, kernel_size = 3, activation = 'relu', padding = 'same'))\n",
        "model.add(BatchNormalization())\n",
        "model.add(MaxPooling2D(pool_size=2))\n",
        "model.add(Dropout(0.5))\n",
        "\n",
        "model.add(Flatten())\n",
        "\n",
        "model.add(Dense(512))\n",
        "model.add(Activation('relu'))\n",
        "model.add(Dropout(0.5))\n",
        "\n",
        "model.add(Dense(256))\n",
        "model.add(Activation('relu'))\n",
        "model.add(Dropout(0.5))\n",
        "\n",
        "model.add(Dense(128))\n",
        "model.add(Activation('relu'))\n",
        "model.add(Dropout(0.5))\n",
        "\n",
        "model.add(Dense(7, activation = 'softmax'))"
      ],
      "execution_count": 0,
      "outputs": []
    },
    {
      "cell_type": "code",
      "metadata": {
        "id": "ryI9RiD5OfPv",
        "colab_type": "code",
        "colab": {}
      },
      "source": [
        "model.compile('adamax', loss = 'categorical_crossentropy', metrics = [\"accuracy\"])"
      ],
      "execution_count": 0,
      "outputs": []
    },
    {
      "cell_type": "code",
      "metadata": {
        "id": "q2gXnSSBOiTo",
        "colab_type": "code",
        "colab": {
          "base_uri": "https://localhost:8080/",
          "height": 1000
        },
        "outputId": "b046f37b-b022-4024-fa93-6fb5bd2aa92e"
      },
      "source": [
        "model.fit_generator(train_it, steps_per_epoch=len(x_train)/64, epochs = 100, verbose=2, callbacks=[lr_reduce], validation_data = (x_val,y_val), validation_steps=len(x_val)/64)"
      ],
      "execution_count": 37,
      "outputs": [
        {
          "output_type": "stream",
          "text": [
            "Epoch 1/100\n",
            " - 65s - loss: 2.0409 - accuracy: 0.2011 - val_loss: 1.8654 - val_accuracy: 0.2438\n",
            "Epoch 2/100\n",
            " - 60s - loss: 1.8610 - accuracy: 0.2244 - val_loss: 1.8387 - val_accuracy: 0.2438\n",
            "Epoch 3/100\n",
            " - 60s - loss: 1.8336 - accuracy: 0.2392 - val_loss: 1.8218 - val_accuracy: 0.2438\n",
            "Epoch 4/100\n",
            " - 60s - loss: 1.8165 - accuracy: 0.2468 - val_loss: 1.8166 - val_accuracy: 0.2438\n",
            "Epoch 5/100\n",
            " - 60s - loss: 1.8053 - accuracy: 0.2498 - val_loss: 1.8198 - val_accuracy: 0.2438\n",
            "Epoch 6/100\n",
            " - 60s - loss: 1.7797 - accuracy: 0.2648 - val_loss: 1.8178 - val_accuracy: 0.2446\n",
            "Epoch 7/100\n",
            " - 60s - loss: 1.7486 - accuracy: 0.2881 - val_loss: 1.7245 - val_accuracy: 0.2926\n",
            "Epoch 8/100\n",
            " - 60s - loss: 1.7041 - accuracy: 0.3052 - val_loss: 1.6367 - val_accuracy: 0.3123\n",
            "Epoch 9/100\n",
            " - 60s - loss: 1.6506 - accuracy: 0.3306 - val_loss: 1.7309 - val_accuracy: 0.3278\n",
            "Epoch 10/100\n",
            " - 60s - loss: 1.5714 - accuracy: 0.3774 - val_loss: 1.4629 - val_accuracy: 0.4048\n",
            "Epoch 11/100\n",
            " - 60s - loss: 1.5113 - accuracy: 0.4063 - val_loss: 1.4152 - val_accuracy: 0.4392\n",
            "Epoch 12/100\n",
            " - 60s - loss: 1.4698 - accuracy: 0.4124 - val_loss: 1.4290 - val_accuracy: 0.4094\n",
            "Epoch 13/100\n",
            " - 60s - loss: 1.4524 - accuracy: 0.4222 - val_loss: 1.3681 - val_accuracy: 0.4311\n",
            "Epoch 14/100\n",
            " - 60s - loss: 1.4237 - accuracy: 0.4327 - val_loss: 1.3975 - val_accuracy: 0.4296\n",
            "Epoch 15/100\n",
            " - 60s - loss: 1.3975 - accuracy: 0.4363 - val_loss: 1.3539 - val_accuracy: 0.4435\n",
            "Epoch 16/100\n",
            " - 60s - loss: 1.3765 - accuracy: 0.4468 - val_loss: 1.3163 - val_accuracy: 0.4667\n",
            "Epoch 17/100\n",
            " - 60s - loss: 1.3515 - accuracy: 0.4687 - val_loss: 1.2888 - val_accuracy: 0.5074\n",
            "Epoch 18/100\n",
            " - 60s - loss: 1.3276 - accuracy: 0.4828 - val_loss: 1.2370 - val_accuracy: 0.5147\n",
            "Epoch 19/100\n",
            " - 60s - loss: 1.3038 - accuracy: 0.5032 - val_loss: 1.2073 - val_accuracy: 0.5310\n",
            "Epoch 20/100\n",
            " - 60s - loss: 1.2778 - accuracy: 0.5159 - val_loss: 1.1984 - val_accuracy: 0.5298\n",
            "Epoch 21/100\n",
            " - 60s - loss: 1.2552 - accuracy: 0.5225 - val_loss: 1.2019 - val_accuracy: 0.5399\n",
            "Epoch 22/100\n",
            " - 60s - loss: 1.2460 - accuracy: 0.5320 - val_loss: 1.1677 - val_accuracy: 0.5565\n",
            "Epoch 23/100\n",
            " - 60s - loss: 1.2256 - accuracy: 0.5434 - val_loss: 1.1578 - val_accuracy: 0.5515\n",
            "Epoch 24/100\n",
            " - 60s - loss: 1.2171 - accuracy: 0.5452 - val_loss: 1.2115 - val_accuracy: 0.5433\n",
            "Epoch 25/100\n",
            " - 60s - loss: 1.1918 - accuracy: 0.5581 - val_loss: 1.1389 - val_accuracy: 0.5580\n",
            "Epoch 26/100\n",
            " - 60s - loss: 1.1795 - accuracy: 0.5631 - val_loss: 1.1712 - val_accuracy: 0.5573\n",
            "Epoch 27/100\n",
            " - 60s - loss: 1.1617 - accuracy: 0.5722 - val_loss: 1.1298 - val_accuracy: 0.5755\n",
            "Epoch 28/100\n",
            " - 60s - loss: 1.1455 - accuracy: 0.5762 - val_loss: 1.2356 - val_accuracy: 0.5321\n",
            "Epoch 29/100\n",
            " - 60s - loss: 1.1455 - accuracy: 0.5819 - val_loss: 1.1238 - val_accuracy: 0.5708\n",
            "Epoch 30/100\n",
            " - 60s - loss: 1.1298 - accuracy: 0.5833 - val_loss: 1.1000 - val_accuracy: 0.5940\n",
            "Epoch 31/100\n",
            " - 60s - loss: 1.1163 - accuracy: 0.5891 - val_loss: 1.1080 - val_accuracy: 0.5797\n",
            "Epoch 32/100\n",
            " - 60s - loss: 1.1005 - accuracy: 0.5965 - val_loss: 1.0913 - val_accuracy: 0.5863\n",
            "Epoch 33/100\n",
            " - 60s - loss: 1.0876 - accuracy: 0.5999 - val_loss: 1.0838 - val_accuracy: 0.5948\n",
            "Epoch 34/100\n",
            " - 60s - loss: 1.0761 - accuracy: 0.6097 - val_loss: 1.0812 - val_accuracy: 0.6014\n",
            "Epoch 35/100\n",
            " - 60s - loss: 1.0666 - accuracy: 0.6139 - val_loss: 1.0991 - val_accuracy: 0.5867\n",
            "Epoch 36/100\n",
            " - 60s - loss: 1.0488 - accuracy: 0.6167 - val_loss: 1.0772 - val_accuracy: 0.6006\n",
            "Epoch 37/100\n",
            " - 60s - loss: 1.0516 - accuracy: 0.6185 - val_loss: 1.0833 - val_accuracy: 0.5886\n",
            "Epoch 38/100\n",
            " - 60s - loss: 1.0284 - accuracy: 0.6259 - val_loss: 1.0553 - val_accuracy: 0.6138\n",
            "Epoch 39/100\n",
            " - 60s - loss: 1.0183 - accuracy: 0.6309 - val_loss: 1.0531 - val_accuracy: 0.6033\n",
            "Epoch 40/100\n",
            " - 60s - loss: 1.0179 - accuracy: 0.6329 - val_loss: 1.0186 - val_accuracy: 0.6300\n",
            "Epoch 41/100\n",
            " - 60s - loss: 1.0037 - accuracy: 0.6342 - val_loss: 1.0340 - val_accuracy: 0.6238\n",
            "Epoch 42/100\n",
            " - 60s - loss: 0.9903 - accuracy: 0.6418 - val_loss: 1.0627 - val_accuracy: 0.6099\n",
            "Epoch 43/100\n",
            " - 60s - loss: 0.9774 - accuracy: 0.6459 - val_loss: 1.0194 - val_accuracy: 0.6281\n",
            "Epoch 44/100\n",
            " - 60s - loss: 0.9700 - accuracy: 0.6478 - val_loss: 1.0243 - val_accuracy: 0.6227\n",
            "Epoch 45/100\n",
            " - 60s - loss: 0.9656 - accuracy: 0.6518 - val_loss: 1.1096 - val_accuracy: 0.5898\n",
            "Epoch 46/100\n",
            " - 60s - loss: 0.9142 - accuracy: 0.6687 - val_loss: 1.0019 - val_accuracy: 0.6324\n",
            "Epoch 47/100\n",
            " - 60s - loss: 0.8982 - accuracy: 0.6709 - val_loss: 0.9878 - val_accuracy: 0.6432\n",
            "Epoch 48/100\n",
            " - 60s - loss: 0.8867 - accuracy: 0.6819 - val_loss: 1.0167 - val_accuracy: 0.6358\n",
            "Epoch 49/100\n",
            " - 60s - loss: 0.8754 - accuracy: 0.6825 - val_loss: 1.0092 - val_accuracy: 0.6366\n",
            "Epoch 50/100\n",
            " - 60s - loss: 0.8816 - accuracy: 0.6796 - val_loss: 1.0104 - val_accuracy: 0.6351\n",
            "Epoch 51/100\n",
            " - 60s - loss: 0.8722 - accuracy: 0.6816 - val_loss: 1.0119 - val_accuracy: 0.6374\n",
            "Epoch 52/100\n",
            " - 60s - loss: 0.8644 - accuracy: 0.6851 - val_loss: 1.0135 - val_accuracy: 0.6347\n",
            "Epoch 53/100\n",
            " - 60s - loss: 0.8509 - accuracy: 0.6932 - val_loss: 0.9958 - val_accuracy: 0.6409\n",
            "Epoch 54/100\n",
            " - 60s - loss: 0.8457 - accuracy: 0.6904 - val_loss: 0.9975 - val_accuracy: 0.6366\n",
            "Epoch 55/100\n",
            " - 60s - loss: 0.8502 - accuracy: 0.6904 - val_loss: 0.9903 - val_accuracy: 0.6443\n",
            "Epoch 56/100\n",
            " - 60s - loss: 0.8457 - accuracy: 0.6934 - val_loss: 0.9896 - val_accuracy: 0.6436\n",
            "Epoch 57/100\n",
            " - 61s - loss: 0.8460 - accuracy: 0.6910 - val_loss: 1.0028 - val_accuracy: 0.6397\n",
            "Epoch 58/100\n",
            " - 60s - loss: 0.8360 - accuracy: 0.6970 - val_loss: 1.0049 - val_accuracy: 0.6482\n",
            "Epoch 59/100\n",
            " - 60s - loss: 0.8428 - accuracy: 0.6950 - val_loss: 1.0010 - val_accuracy: 0.6502\n",
            "Epoch 60/100\n",
            " - 60s - loss: 0.8305 - accuracy: 0.6967 - val_loss: 0.9952 - val_accuracy: 0.6478\n",
            "Epoch 61/100\n",
            " - 60s - loss: 0.8302 - accuracy: 0.6987 - val_loss: 0.9918 - val_accuracy: 0.6494\n",
            "Epoch 62/100\n",
            " - 60s - loss: 0.8359 - accuracy: 0.6963 - val_loss: 0.9994 - val_accuracy: 0.6443\n",
            "Epoch 63/100\n",
            " - 60s - loss: 0.8323 - accuracy: 0.6994 - val_loss: 0.9959 - val_accuracy: 0.6474\n",
            "Epoch 64/100\n",
            " - 60s - loss: 0.8335 - accuracy: 0.6968 - val_loss: 0.9964 - val_accuracy: 0.6478\n",
            "Epoch 65/100\n",
            " - 60s - loss: 0.8283 - accuracy: 0.7011 - val_loss: 0.9956 - val_accuracy: 0.6490\n",
            "Epoch 66/100\n",
            " - 60s - loss: 0.8277 - accuracy: 0.6999 - val_loss: 1.0001 - val_accuracy: 0.6451\n",
            "Epoch 67/100\n",
            " - 60s - loss: 0.8238 - accuracy: 0.7009 - val_loss: 0.9993 - val_accuracy: 0.6447\n",
            "Epoch 68/100\n",
            " - 60s - loss: 0.8259 - accuracy: 0.6984 - val_loss: 0.9954 - val_accuracy: 0.6482\n",
            "Epoch 69/100\n",
            " - 60s - loss: 0.8234 - accuracy: 0.7009 - val_loss: 0.9924 - val_accuracy: 0.6498\n",
            "Epoch 70/100\n",
            " - 60s - loss: 0.8257 - accuracy: 0.6983 - val_loss: 0.9910 - val_accuracy: 0.6525\n",
            "Epoch 71/100\n",
            " - 60s - loss: 0.8187 - accuracy: 0.7048 - val_loss: 0.9981 - val_accuracy: 0.6505\n",
            "Epoch 72/100\n",
            " - 60s - loss: 0.8203 - accuracy: 0.7025 - val_loss: 0.9912 - val_accuracy: 0.6544\n",
            "Epoch 73/100\n",
            " - 60s - loss: 0.8165 - accuracy: 0.7050 - val_loss: 0.9965 - val_accuracy: 0.6505\n",
            "Epoch 74/100\n",
            " - 60s - loss: 0.8195 - accuracy: 0.7047 - val_loss: 0.9982 - val_accuracy: 0.6486\n",
            "Epoch 75/100\n",
            " - 60s - loss: 0.8128 - accuracy: 0.7049 - val_loss: 0.9979 - val_accuracy: 0.6478\n",
            "Epoch 76/100\n",
            " - 60s - loss: 0.8145 - accuracy: 0.7016 - val_loss: 0.9939 - val_accuracy: 0.6525\n",
            "Epoch 77/100\n",
            " - 60s - loss: 0.8127 - accuracy: 0.7047 - val_loss: 0.9929 - val_accuracy: 0.6509\n",
            "Epoch 78/100\n",
            " - 60s - loss: 0.8132 - accuracy: 0.7060 - val_loss: 0.9921 - val_accuracy: 0.6533\n",
            "Epoch 79/100\n",
            " - 60s - loss: 0.8049 - accuracy: 0.7073 - val_loss: 0.9975 - val_accuracy: 0.6517\n",
            "Epoch 80/100\n",
            " - 60s - loss: 0.7990 - accuracy: 0.7094 - val_loss: 0.9990 - val_accuracy: 0.6571\n",
            "Epoch 81/100\n",
            " - 60s - loss: 0.8142 - accuracy: 0.7035 - val_loss: 1.0052 - val_accuracy: 0.6478\n",
            "Epoch 82/100\n",
            " - 60s - loss: 0.8061 - accuracy: 0.7079 - val_loss: 1.0018 - val_accuracy: 0.6509\n",
            "Epoch 83/100\n",
            " - 60s - loss: 0.8019 - accuracy: 0.7094 - val_loss: 0.9952 - val_accuracy: 0.6521\n",
            "Epoch 84/100\n",
            " - 60s - loss: 0.8046 - accuracy: 0.7080 - val_loss: 0.9977 - val_accuracy: 0.6505\n",
            "Epoch 85/100\n",
            " - 60s - loss: 0.8027 - accuracy: 0.7113 - val_loss: 0.9954 - val_accuracy: 0.6548\n",
            "Epoch 86/100\n",
            " - 60s - loss: 0.8014 - accuracy: 0.7087 - val_loss: 1.0001 - val_accuracy: 0.6513\n",
            "Epoch 87/100\n",
            " - 60s - loss: 0.7938 - accuracy: 0.7108 - val_loss: 0.9943 - val_accuracy: 0.6544\n",
            "Epoch 88/100\n",
            " - 60s - loss: 0.7917 - accuracy: 0.7119 - val_loss: 1.0003 - val_accuracy: 0.6521\n",
            "Epoch 89/100\n",
            " - 60s - loss: 0.7999 - accuracy: 0.7094 - val_loss: 1.0017 - val_accuracy: 0.6560\n",
            "Epoch 90/100\n",
            " - 60s - loss: 0.7956 - accuracy: 0.7135 - val_loss: 0.9968 - val_accuracy: 0.6544\n",
            "Epoch 91/100\n",
            " - 60s - loss: 0.7934 - accuracy: 0.7123 - val_loss: 0.9962 - val_accuracy: 0.6602\n",
            "Epoch 92/100\n",
            " - 60s - loss: 0.7897 - accuracy: 0.7160 - val_loss: 0.9987 - val_accuracy: 0.6552\n",
            "Epoch 93/100\n",
            " - 60s - loss: 0.7908 - accuracy: 0.7111 - val_loss: 0.9986 - val_accuracy: 0.6536\n",
            "Epoch 94/100\n",
            " - 60s - loss: 0.7832 - accuracy: 0.7111 - val_loss: 1.0032 - val_accuracy: 0.6533\n",
            "Epoch 95/100\n",
            " - 60s - loss: 0.7860 - accuracy: 0.7134 - val_loss: 1.0040 - val_accuracy: 0.6552\n",
            "Epoch 96/100\n",
            " - 60s - loss: 0.7864 - accuracy: 0.7145 - val_loss: 1.0141 - val_accuracy: 0.6544\n",
            "Epoch 97/100\n",
            " - 60s - loss: 0.7874 - accuracy: 0.7163 - val_loss: 0.9977 - val_accuracy: 0.6567\n",
            "Epoch 98/100\n",
            " - 60s - loss: 0.7893 - accuracy: 0.7135 - val_loss: 1.0013 - val_accuracy: 0.6567\n",
            "Epoch 99/100\n",
            " - 60s - loss: 0.7871 - accuracy: 0.7120 - val_loss: 1.0045 - val_accuracy: 0.6579\n",
            "Epoch 100/100\n",
            " - 60s - loss: 0.7807 - accuracy: 0.7193 - val_loss: 1.0029 - val_accuracy: 0.6579\n"
          ],
          "name": "stdout"
        },
        {
          "output_type": "execute_result",
          "data": {
            "text/plain": [
              "<keras.callbacks.callbacks.History at 0x7fa8043a9358>"
            ]
          },
          "metadata": {
            "tags": []
          },
          "execution_count": 37
        }
      ]
    },
    {
      "cell_type": "code",
      "metadata": {
        "id": "uq4O41dkOlOC",
        "colab_type": "code",
        "colab": {
          "base_uri": "https://localhost:8080/",
          "height": 1000
        },
        "outputId": "ca80bad1-f142-40cc-a824-9ef69930cbbd"
      },
      "source": [
        "model.summary()"
      ],
      "execution_count": 39,
      "outputs": [
        {
          "output_type": "stream",
          "text": [
            "Model: \"sequential_2\"\n",
            "_________________________________________________________________\n",
            "Layer (type)                 Output Shape              Param #   \n",
            "=================================================================\n",
            "conv2d_14 (Conv2D)           (None, 48, 48, 64)        640       \n",
            "_________________________________________________________________\n",
            "batch_normalization_14 (Batc (None, 48, 48, 64)        256       \n",
            "_________________________________________________________________\n",
            "conv2d_15 (Conv2D)           (None, 48, 48, 64)        36928     \n",
            "_________________________________________________________________\n",
            "batch_normalization_15 (Batc (None, 48, 48, 64)        256       \n",
            "_________________________________________________________________\n",
            "max_pooling2d_6 (MaxPooling2 (None, 24, 24, 64)        0         \n",
            "_________________________________________________________________\n",
            "dropout_9 (Dropout)          (None, 24, 24, 64)        0         \n",
            "_________________________________________________________________\n",
            "conv2d_16 (Conv2D)           (None, 24, 24, 128)       73856     \n",
            "_________________________________________________________________\n",
            "batch_normalization_16 (Batc (None, 24, 24, 128)       512       \n",
            "_________________________________________________________________\n",
            "conv2d_17 (Conv2D)           (None, 24, 24, 128)       147584    \n",
            "_________________________________________________________________\n",
            "batch_normalization_17 (Batc (None, 24, 24, 128)       512       \n",
            "_________________________________________________________________\n",
            "max_pooling2d_7 (MaxPooling2 (None, 12, 12, 128)       0         \n",
            "_________________________________________________________________\n",
            "dropout_10 (Dropout)         (None, 12, 12, 128)       0         \n",
            "_________________________________________________________________\n",
            "conv2d_18 (Conv2D)           (None, 12, 12, 256)       295168    \n",
            "_________________________________________________________________\n",
            "batch_normalization_18 (Batc (None, 12, 12, 256)       1024      \n",
            "_________________________________________________________________\n",
            "conv2d_19 (Conv2D)           (None, 12, 12, 256)       590080    \n",
            "_________________________________________________________________\n",
            "batch_normalization_19 (Batc (None, 12, 12, 256)       1024      \n",
            "_________________________________________________________________\n",
            "conv2d_20 (Conv2D)           (None, 12, 12, 256)       590080    \n",
            "_________________________________________________________________\n",
            "batch_normalization_20 (Batc (None, 12, 12, 256)       1024      \n",
            "_________________________________________________________________\n",
            "max_pooling2d_8 (MaxPooling2 (None, 6, 6, 256)         0         \n",
            "_________________________________________________________________\n",
            "dropout_11 (Dropout)         (None, 6, 6, 256)         0         \n",
            "_________________________________________________________________\n",
            "conv2d_21 (Conv2D)           (None, 6, 6, 512)         1180160   \n",
            "_________________________________________________________________\n",
            "batch_normalization_21 (Batc (None, 6, 6, 512)         2048      \n",
            "_________________________________________________________________\n",
            "conv2d_22 (Conv2D)           (None, 6, 6, 512)         2359808   \n",
            "_________________________________________________________________\n",
            "batch_normalization_22 (Batc (None, 6, 6, 512)         2048      \n",
            "_________________________________________________________________\n",
            "conv2d_23 (Conv2D)           (None, 6, 6, 512)         2359808   \n",
            "_________________________________________________________________\n",
            "batch_normalization_23 (Batc (None, 6, 6, 512)         2048      \n",
            "_________________________________________________________________\n",
            "max_pooling2d_9 (MaxPooling2 (None, 3, 3, 512)         0         \n",
            "_________________________________________________________________\n",
            "dropout_12 (Dropout)         (None, 3, 3, 512)         0         \n",
            "_________________________________________________________________\n",
            "conv2d_24 (Conv2D)           (None, 3, 3, 512)         2359808   \n",
            "_________________________________________________________________\n",
            "batch_normalization_24 (Batc (None, 3, 3, 512)         2048      \n",
            "_________________________________________________________________\n",
            "conv2d_25 (Conv2D)           (None, 3, 3, 512)         2359808   \n",
            "_________________________________________________________________\n",
            "batch_normalization_25 (Batc (None, 3, 3, 512)         2048      \n",
            "_________________________________________________________________\n",
            "conv2d_26 (Conv2D)           (None, 3, 3, 512)         2359808   \n",
            "_________________________________________________________________\n",
            "batch_normalization_26 (Batc (None, 3, 3, 512)         2048      \n",
            "_________________________________________________________________\n",
            "max_pooling2d_10 (MaxPooling (None, 1, 1, 512)         0         \n",
            "_________________________________________________________________\n",
            "dropout_13 (Dropout)         (None, 1, 1, 512)         0         \n",
            "_________________________________________________________________\n",
            "flatten_2 (Flatten)          (None, 512)               0         \n",
            "_________________________________________________________________\n",
            "dense_5 (Dense)              (None, 512)               262656    \n",
            "_________________________________________________________________\n",
            "activation_4 (Activation)    (None, 512)               0         \n",
            "_________________________________________________________________\n",
            "dropout_14 (Dropout)         (None, 512)               0         \n",
            "_________________________________________________________________\n",
            "dense_6 (Dense)              (None, 256)               131328    \n",
            "_________________________________________________________________\n",
            "activation_5 (Activation)    (None, 256)               0         \n",
            "_________________________________________________________________\n",
            "dropout_15 (Dropout)         (None, 256)               0         \n",
            "_________________________________________________________________\n",
            "dense_7 (Dense)              (None, 128)               32896     \n",
            "_________________________________________________________________\n",
            "activation_6 (Activation)    (None, 128)               0         \n",
            "_________________________________________________________________\n",
            "dropout_16 (Dropout)         (None, 128)               0         \n",
            "_________________________________________________________________\n",
            "dense_8 (Dense)              (None, 7)                 903       \n",
            "=================================================================\n",
            "Total params: 15,158,215\n",
            "Trainable params: 15,149,767\n",
            "Non-trainable params: 8,448\n",
            "_________________________________________________________________\n"
          ],
          "name": "stdout"
        }
      ]
    },
    {
      "cell_type": "code",
      "metadata": {
        "id": "irHepK4pfoxI",
        "colab_type": "code",
        "colab": {
          "base_uri": "https://localhost:8080/",
          "height": 52
        },
        "outputId": "e505c2ec-7327-446f-b7f8-fa65f661391a"
      },
      "source": [
        "model.evaluate(x_test,y_test,batch_size = 64,verbose=1)"
      ],
      "execution_count": 40,
      "outputs": [
        {
          "output_type": "stream",
          "text": [
            "2871/2871 [==============================] - 2s 654us/step\n"
          ],
          "name": "stdout"
        },
        {
          "output_type": "execute_result",
          "data": {
            "text/plain": [
              "[0.9862904658470366, 0.6565656661987305]"
            ]
          },
          "metadata": {
            "tags": []
          },
          "execution_count": 40
        }
      ]
    },
    {
      "cell_type": "code",
      "metadata": {
        "id": "KGU07EDvf1oy",
        "colab_type": "code",
        "colab": {
          "base_uri": "https://localhost:8080/",
          "height": 264
        },
        "outputId": "13f5ed70-e3e0-4a88-81fc-e5ee29aa6142"
      },
      "source": [
        "for i in range(4):\n",
        "    plt.subplot(2,2,i+1)\n",
        "    plt.axis('off')\n",
        "    plt.imshow(X_test[i],cmap = plt.get_cmap('gray'))\n",
        "    img = np.resize(x_test[i],(1,48,48,1))\n",
        "    pred_id = np.argmax(model.predict(img))\n",
        "    #print(pred_id,np.argmax(y_test[i]))\n",
        "    plt.title(emotions[pred_id])"
      ],
      "execution_count": 49,
      "outputs": [
        {
          "output_type": "display_data",
          "data": {
            "image/png": "[encoded data removed]",
            "text/plain": [
              "<Figure size 432x288 with 4 Axes>"
            ]
          },
          "metadata": {
            "tags": [],
            "needs_background": "light"
          }
        }
      ]
    },
    {
      "cell_type": "code",
      "metadata": {
        "id": "PBHdQ1xTf631",
        "colab_type": "code",
        "colab": {}
      },
      "source": [
        "model.save(\"fer_model2.h5\")"
      ],
      "execution_count": 0,
      "outputs": []
    },
    {
      "cell_type": "code",
      "metadata": {
        "id": "z-HZgFhDmRPp",
        "colab_type": "code",
        "colab": {
          "base_uri": "https://localhost:8080/",
          "height": 461
        },
        "outputId": "94dd348e-05ea-4d7d-9080-ce6ce84fc5a0"
      },
      "source": [
        "from google.colab import files\n",
        "files.download('fer_model2.h5')"
      ],
      "execution_count": 47,
      "outputs": [
        {
          "output_type": "stream",
          "text": [
            "----------------------------------------\n",
            "Exception happened during processing of request from ('::ffff:127.0.0.1', 56872, 0, 0)\n",
            "Traceback (most recent call last):\n",
            "  File \"/usr/lib/python3.6/socketserver.py\", line 320, in _handle_request_noblock\n",
            "    self.process_request(request, client_address)\n",
            "  File \"/usr/lib/python3.6/socketserver.py\", line 351, in process_request\n",
            "    self.finish_request(request, client_address)\n",
            "  File \"/usr/lib/python3.6/socketserver.py\", line 364, in finish_request\n",
            "    self.RequestHandlerClass(request, client_address, self)\n",
            "  File \"/usr/lib/python3.6/socketserver.py\", line 724, in __init__\n",
            "    self.handle()\n",
            "  File \"/usr/lib/python3.6/http/server.py\", line 418, in handle\n",
            "    self.handle_one_request()\n",
            "  File \"/usr/lib/python3.6/http/server.py\", line 406, in handle_one_request\n",
            "    method()\n",
            "  File \"/usr/lib/python3.6/http/server.py\", line 639, in do_GET\n",
            "    self.copyfile(f, self.wfile)\n",
            "  File \"/usr/lib/python3.6/http/server.py\", line 800, in copyfile\n",
            "    shutil.copyfileobj(source, outputfile)\n",
            "  File \"/usr/lib/python3.6/shutil.py\", line 82, in copyfileobj\n",
            "    fdst.write(buf)\n",
            "  File \"/usr/lib/python3.6/socketserver.py\", line 803, in write\n",
            "    self._sock.sendall(b)\n",
            "ConnectionResetError: [Errno 104] Connection reset by peer\n",
            "----------------------------------------\n"
          ],
          "name": "stderr"
        }
      ]
    },
    {
      "cell_type": "code",
      "metadata": {
        "id": "Il7fou36nJqW",
        "colab_type": "code",
        "colab": {}
      },
      "source": [
        ""
      ],
      "execution_count": 0,
      "outputs": []
    }
  ]
}