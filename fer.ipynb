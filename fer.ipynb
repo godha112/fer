{
  "nbformat": 4,
  "nbformat_minor": 0,
  "metadata": {
    "colab": {
      "name": "fer.ipynb",
      "provenance": [],
      "authorship_tag": "ABX9TyP/R87Dq+3YnTkP89SH0tgc",
      "include_colab_link": true
    },
    "kernelspec": {
      "name": "python3",
      "display_name": "Python 3"
    },
    "accelerator": "GPU"
  },
  "cells": [
    {
      "cell_type": "markdown",
      "metadata": {
        "id": "view-in-github",
        "colab_type": "text"
      },
      "source": [
        "<a href=\"https://colab.research.google.com/github/godha112/fer/blob/master/fer.ipynb\" target=\"_parent\"><img src=\"https://colab.research.google.com/assets/colab-badge.svg\" alt=\"Open In Colab\"/></a>"
      ]
    },
    {
      "cell_type": "code",
      "metadata": {
        "id": "tc6a3ABa4eyE",
        "colab_type": "code",
        "outputId": "93c1cc22-833e-41cd-de69-f3ecc3573c8b",
        "colab": {
          "base_uri": "https://localhost:8080/",
          "height": 33
        }
      },
      "source": [
        "import numpy as np\n",
        "import pandas as pd\n",
        "from matplotlib import pyplot as plt\n",
        "from keras.models import Sequential\n",
        "from keras.layers import AveragePooling2D, Dense, Activation, ZeroPadding2D, BatchNormalization, Flatten, Conv2D, MaxPooling2D, Dropout\n",
        "from keras.preprocessing import image\n",
        "from keras.utils.np_utils import to_categorical\n",
        "from sklearn.model_selection import train_test_split\n",
        "from google.colab import drive"
      ],
      "execution_count": 1,
      "outputs": [
        {
          "output_type": "stream",
          "text": [
            "Using TensorFlow backend.\n"
          ],
          "name": "stderr"
        }
      ]
    },
    {
      "cell_type": "code",
      "metadata": {
        "id": "VMZtqKiV5Q8K",
        "colab_type": "code",
        "outputId": "987168b0-cd3f-4f8a-a493-8888366ef6ac",
        "colab": {
          "base_uri": "https://localhost:8080/",
          "height": 33
        }
      },
      "source": [
        "drive.mount('/content/drive')"
      ],
      "execution_count": 2,
      "outputs": [
        {
          "output_type": "stream",
          "text": [
            "Drive already mounted at /content/drive; to attempt to forcibly remount, call drive.mount(\"/content/drive\", force_remount=True).\n"
          ],
          "name": "stdout"
        }
      ]
    },
    {
      "cell_type": "code",
      "metadata": {
        "id": "ASzWLuXzJDTF",
        "colab_type": "code",
        "colab": {}
      },
      "source": [
        "path = '/content/drive/My Drive/fer data/train.csv'\n",
        "train = pd.read_csv(path) "
      ],
      "execution_count": 0,
      "outputs": []
    },
    {
      "cell_type": "code",
      "metadata": {
        "id": "uhLs5e9gLNCT",
        "colab_type": "code",
        "colab": {}
      },
      "source": [
        "emotions = ['Angry','Disgust','Fear','Happy','Sad','Surprise','Neutral']"
      ],
      "execution_count": 0,
      "outputs": []
    },
    {
      "cell_type": "code",
      "metadata": {
        "id": "rLc6XRLHNY-0",
        "colab_type": "code",
        "colab": {}
      },
      "source": [
        "def string_to_img(data):\n",
        "    datapoints = data['pixels'].tolist()\n",
        "    x = []\n",
        "    for i in datapoints:\n",
        "        xx = [int(j) for j in i.split(' ')]\n",
        "        xx = np.array(xx).reshape(48,48)\n",
        "        x.append(xx.astype('float32'))\n",
        "    x = np.array(x)\n",
        "    y = data.iloc[:,0].values\n",
        "    return x,y"
      ],
      "execution_count": 0,
      "outputs": []
    },
    {
      "cell_type": "code",
      "metadata": {
        "id": "k4a4dCxoNbes",
        "colab_type": "code",
        "colab": {}
      },
      "source": [
        "X_train, Y_train = string_to_img(train)"
      ],
      "execution_count": 0,
      "outputs": []
    },
    {
      "cell_type": "code",
      "metadata": {
        "id": "Ix8XJc7-NeBF",
        "colab_type": "code",
        "colab": {
          "base_uri": "https://localhost:8080/",
          "height": 33
        },
        "outputId": "221286bc-7878-4369-84da-d09dddb305e6"
      },
      "source": [
        "Y_train.shape"
      ],
      "execution_count": 6,
      "outputs": [
        {
          "output_type": "execute_result",
          "data": {
            "text/plain": [
              "(28709,)"
            ]
          },
          "metadata": {
            "tags": []
          },
          "execution_count": 6
        }
      ]
    },
    {
      "cell_type": "code",
      "metadata": {
        "id": "0-Nkvk99ODgt",
        "colab_type": "code",
        "colab": {
          "base_uri": "https://localhost:8080/",
          "height": 248
        },
        "outputId": "a6d318ab-a2fe-4d8d-cbfc-ed24947204f9"
      },
      "source": [
        "for i in range(4):\n",
        "    plt.subplot(2,2,i+1)\n",
        "    plt.imshow(X_train[i],cmap=plt.get_cmap('gray'))\n",
        "    plt.axis('off')"
      ],
      "execution_count": 7,
      "outputs": [
        {
          "output_type": "display_data",
          "data": {
            "image/png": "[encoded data removed]",
            "text/plain": [
              "<Figure size 432x288 with 4 Axes>"
            ]
          },
          "metadata": {
            "tags": [],
            "needs_background": "light"
          }
        }
      ]
    },
    {
      "cell_type": "code",
      "metadata": {
        "id": "dlamNWOGOFrs",
        "colab_type": "code",
        "colab": {
          "base_uri": "https://localhost:8080/",
          "height": 117
        },
        "outputId": "a2005fa7-0a81-42b7-ef1a-8c14f03ef9bd"
      },
      "source": [
        "X_train,X_test,Y_train,Y_test = train_test_split(X_train,Y_train,test_size=0.1,random_state=42)\n",
        "X_train,X_val,Y_train,Y_val = train_test_split(X_train,Y_train,test_size=0.1,random_state=41)\n",
        "print(X_train.shape)\n",
        "print(Y_train.shape)\n",
        "print(X_test.shape)\n",
        "print(Y_test.shape)\n",
        "print(X_val.shape)\n",
        "print(Y_val.shape)"
      ],
      "execution_count": 8,
      "outputs": [
        {
          "output_type": "stream",
          "text": [
            "(23254, 48, 48)\n",
            "(23254,)\n",
            "(2871, 48, 48)\n",
            "(2871,)\n",
            "(2584, 48, 48)\n",
            "(2584,)\n"
          ],
          "name": "stdout"
        }
      ]
    },
    {
      "cell_type": "code",
      "metadata": {
        "id": "e6Ipu9fAOIH7",
        "colab_type": "code",
        "colab": {
          "base_uri": "https://localhost:8080/",
          "height": 117
        },
        "outputId": "c4a1b669-0586-43aa-ec12-9d043852f72a"
      },
      "source": [
        "x_train, y_train = X_train, Y_train\n",
        "x_val, y_val = X_val, Y_val\n",
        "x_test, y_test = X_test, Y_test\n",
        "print(x_train.shape)\n",
        "print(y_train.shape)\n",
        "print(x_val.shape)\n",
        "print(y_val.shape)\n",
        "print(x_test.shape)\n",
        "print(y_test.shape)"
      ],
      "execution_count": 9,
      "outputs": [
        {
          "output_type": "stream",
          "text": [
            "(23254, 48, 48)\n",
            "(23254,)\n",
            "(2584, 48, 48)\n",
            "(2584,)\n",
            "(2871, 48, 48)\n",
            "(2871,)\n"
          ],
          "name": "stdout"
        }
      ]
    },
    {
      "cell_type": "code",
      "metadata": {
        "id": "0RKiPhHYOTMy",
        "colab_type": "code",
        "colab": {
          "base_uri": "https://localhost:8080/",
          "height": 50
        },
        "outputId": "08eae0bc-59b1-4be1-bd89-3d704f76edc3"
      },
      "source": [
        "x_train -= np.mean(X_train, axis=0)\n",
        "x_train /= np.std(x_train, axis=0)\n",
        "x_train = np.resize(x_train,(x_train.shape[0],48,48,1))\n",
        "y_train = to_categorical(Y_train)\n",
        "print(x_train.shape)\n",
        "print(y_train.shape)"
      ],
      "execution_count": 10,
      "outputs": [
        {
          "output_type": "stream",
          "text": [
            "(23254, 48, 48, 1)\n",
            "(23254, 7)\n"
          ],
          "name": "stdout"
        }
      ]
    },
    {
      "cell_type": "code",
      "metadata": {
        "id": "AkY9b1z6OVtp",
        "colab_type": "code",
        "colab": {
          "base_uri": "https://localhost:8080/",
          "height": 50
        },
        "outputId": "594dd252-a283-4a4f-f3e6-759aa2001959"
      },
      "source": [
        "x_test -= np.mean(X_test, axis=0)\n",
        "x_test /= np.std(x_test, axis=0)\n",
        "x_test = np.resize(x_test,(x_test.shape[0],48,48,1))\n",
        "y_test = to_categorical(Y_test)\n",
        "print(x_test.shape)\n",
        "print(y_test.shape)"
      ],
      "execution_count": 11,
      "outputs": [
        {
          "output_type": "stream",
          "text": [
            "(2871, 48, 48, 1)\n",
            "(2871, 7)\n"
          ],
          "name": "stdout"
        }
      ]
    },
    {
      "cell_type": "code",
      "metadata": {
        "id": "tnBcROXYOX40",
        "colab_type": "code",
        "colab": {
          "base_uri": "https://localhost:8080/",
          "height": 50
        },
        "outputId": "e449262c-1f4b-4790-eb1f-f5e8eff0f918"
      },
      "source": [
        "x_val -= np.mean(X_val, axis=0)\n",
        "x_val /= np.std(x_val, axis=0)\n",
        "x_val = np.resize(x_val,(x_val.shape[0],48,48,1))\n",
        "y_val = to_categorical(Y_val)\n",
        "print(x_val.shape)\n",
        "print(y_val.shape)"
      ],
      "execution_count": 12,
      "outputs": [
        {
          "output_type": "stream",
          "text": [
            "(2584, 48, 48, 1)\n",
            "(2584, 7)\n"
          ],
          "name": "stdout"
        }
      ]
    },
    {
      "cell_type": "code",
      "metadata": {
        "id": "yfD1ySYtOaIH",
        "colab_type": "code",
        "colab": {}
      },
      "source": [
        "model = Sequential()\n",
        "\n",
        "model.add(Conv2D(filters = 64, kernel_size = 3, activation = 'relu', padding = 'same'))\n",
        "model.add(BatchNormalization())\n",
        "model.add(Conv2D(filters = 64, kernel_size = 3, activation = 'relu', padding = 'same'))\n",
        "model.add(BatchNormalization())\n",
        "model.add(MaxPooling2D(pool_size=2))\n",
        "model.add(Dropout(0.5))\n",
        "\n",
        "model.add(Conv2D(filters = 128, kernel_size = 3, activation = 'relu', padding = 'same'))\n",
        "model.add(BatchNormalization())\n",
        "model.add(Conv2D(filters = 128, kernel_size = 3, activation = 'relu', padding = 'same'))\n",
        "model.add(BatchNormalization())\n",
        "model.add(MaxPooling2D(pool_size=2))\n",
        "model.add(Dropout(0.5))\n",
        "\n",
        "model.add(Conv2D(filters = 256, kernel_size = 3, activation = 'relu', padding = 'same'))\n",
        "model.add(BatchNormalization())\n",
        "model.add(Conv2D(filters = 256, kernel_size = 3, activation = 'relu', padding = 'same'))\n",
        "model.add(BatchNormalization())\n",
        "model.add(Conv2D(filters = 256, kernel_size = 3, activation = 'relu', padding = 'same'))\n",
        "model.add(BatchNormalization())\n",
        "model.add(MaxPooling2D(pool_size=2))\n",
        "model.add(Dropout(0.5))\n",
        "\n",
        "model.add(Conv2D(filters = 512, kernel_size = 3, activation = 'relu', padding = 'same'))\n",
        "model.add(BatchNormalization())\n",
        "model.add(Conv2D(filters = 512, kernel_size = 3, activation = 'relu', padding = 'same'))\n",
        "model.add(BatchNormalization())\n",
        "model.add(Conv2D(filters = 512, kernel_size = 3, activation = 'relu', padding = 'same'))\n",
        "model.add(BatchNormalization())\n",
        "model.add(MaxPooling2D(pool_size=2))\n",
        "model.add(Dropout(0.5))\n",
        "\n",
        "model.add(Conv2D(filters = 512, kernel_size = 3, activation = 'relu', padding = 'same'))\n",
        "model.add(BatchNormalization())\n",
        "model.add(Conv2D(filters = 512, kernel_size = 3, activation = 'relu', padding = 'same'))\n",
        "model.add(BatchNormalization())\n",
        "model.add(Conv2D(filters = 512, kernel_size = 3, activation = 'relu', padding = 'same'))\n",
        "model.add(BatchNormalization())\n",
        "model.add(MaxPooling2D(pool_size=2))\n",
        "model.add(Dropout(0.5))\n",
        "\n",
        "model.add(Flatten())\n",
        "\n",
        "model.add(Dense(512))\n",
        "model.add(Activation('relu'))\n",
        "model.add(Dropout(0.5))\n",
        "\n",
        "model.add(Dense(256))\n",
        "model.add(Activation('relu'))\n",
        "model.add(Dropout(0.5))\n",
        "\n",
        "model.add(Dense(7, activation = 'softmax'))"
      ],
      "execution_count": 0,
      "outputs": []
    },
    {
      "cell_type": "code",
      "metadata": {
        "id": "ryI9RiD5OfPv",
        "colab_type": "code",
        "colab": {}
      },
      "source": [
        "from keras.optimizers import Adam\n",
        "model.compile('adamax', loss = 'categorical_crossentropy', metrics = [\"accuracy\"])"
      ],
      "execution_count": 0,
      "outputs": []
    },
    {
      "cell_type": "code",
      "metadata": {
        "id": "q2gXnSSBOiTo",
        "colab_type": "code",
        "colab": {
          "base_uri": "https://localhost:8080/",
          "height": 1000
        },
        "outputId": "d030fb54-249c-4bb1-8f08-2cce73d432c9"
      },
      "source": [
        "model.fit(x_train, y_train, validation_data = (x_val,y_val),epochs = 100,batch_size=128)"
      ],
      "execution_count": 15,
      "outputs": [
        {
          "output_type": "stream",
          "text": [
            "Train on 23254 samples, validate on 2584 samples\n",
            "Epoch 1/100\n",
            "23254/23254 [==============================] - 26s 1ms/step - loss: 2.0804 - accuracy: 0.2063 - val_loss: 1.8407 - val_accuracy: 0.2334\n",
            "Epoch 2/100\n",
            "23254/23254 [==============================] - 21s 897us/step - loss: 1.8568 - accuracy: 0.2260 - val_loss: 1.8490 - val_accuracy: 0.2430\n",
            "Epoch 3/100\n",
            "23254/23254 [==============================] - 21s 898us/step - loss: 1.8152 - accuracy: 0.2432 - val_loss: 1.8618 - val_accuracy: 0.1668\n",
            "Epoch 4/100\n",
            "23254/23254 [==============================] - 21s 897us/step - loss: 1.7610 - accuracy: 0.2744 - val_loss: 1.8340 - val_accuracy: 0.2454\n",
            "Epoch 5/100\n",
            "23254/23254 [==============================] - 21s 896us/step - loss: 1.7125 - accuracy: 0.3011 - val_loss: 1.7495 - val_accuracy: 0.2844\n",
            "Epoch 6/100\n",
            "23254/23254 [==============================] - 21s 896us/step - loss: 1.6506 - accuracy: 0.3363 - val_loss: 1.6674 - val_accuracy: 0.3390\n",
            "Epoch 7/100\n",
            "23254/23254 [==============================] - 21s 897us/step - loss: 1.5913 - accuracy: 0.3712 - val_loss: 1.5894 - val_accuracy: 0.3762\n",
            "Epoch 8/100\n",
            "23254/23254 [==============================] - 21s 897us/step - loss: 1.5355 - accuracy: 0.3944 - val_loss: 1.4855 - val_accuracy: 0.4033\n",
            "Epoch 9/100\n",
            "23254/23254 [==============================] - 21s 898us/step - loss: 1.4766 - accuracy: 0.4247 - val_loss: 1.4235 - val_accuracy: 0.4346\n",
            "Epoch 10/100\n",
            "23254/23254 [==============================] - 21s 898us/step - loss: 1.4244 - accuracy: 0.4475 - val_loss: 1.3908 - val_accuracy: 0.4478\n",
            "Epoch 11/100\n",
            "23254/23254 [==============================] - 21s 898us/step - loss: 1.3775 - accuracy: 0.4683 - val_loss: 1.3288 - val_accuracy: 0.4896\n",
            "Epoch 12/100\n",
            "23254/23254 [==============================] - 21s 898us/step - loss: 1.3348 - accuracy: 0.4883 - val_loss: 1.3016 - val_accuracy: 0.4985\n",
            "Epoch 13/100\n",
            "23254/23254 [==============================] - 21s 897us/step - loss: 1.3027 - accuracy: 0.5042 - val_loss: 1.2643 - val_accuracy: 0.5197\n",
            "Epoch 14/100\n",
            "23254/23254 [==============================] - 21s 902us/step - loss: 1.2603 - accuracy: 0.5200 - val_loss: 1.2348 - val_accuracy: 0.5302\n",
            "Epoch 15/100\n",
            "23254/23254 [==============================] - 21s 900us/step - loss: 1.2399 - accuracy: 0.5335 - val_loss: 1.1979 - val_accuracy: 0.5422\n",
            "Epoch 16/100\n",
            "23254/23254 [==============================] - 21s 894us/step - loss: 1.2065 - accuracy: 0.5471 - val_loss: 1.2078 - val_accuracy: 0.5538\n",
            "Epoch 17/100\n",
            "23254/23254 [==============================] - 21s 894us/step - loss: 1.1788 - accuracy: 0.5582 - val_loss: 1.1915 - val_accuracy: 0.5468\n",
            "Epoch 18/100\n",
            "23254/23254 [==============================] - 21s 896us/step - loss: 1.1591 - accuracy: 0.5701 - val_loss: 1.2141 - val_accuracy: 0.5379\n",
            "Epoch 19/100\n",
            "23254/23254 [==============================] - 21s 896us/step - loss: 1.1135 - accuracy: 0.5840 - val_loss: 1.1656 - val_accuracy: 0.5588\n",
            "Epoch 20/100\n",
            "23254/23254 [==============================] - 21s 895us/step - loss: 1.0955 - accuracy: 0.5952 - val_loss: 1.1333 - val_accuracy: 0.5805\n",
            "Epoch 21/100\n",
            "23254/23254 [==============================] - 21s 894us/step - loss: 1.0626 - accuracy: 0.6089 - val_loss: 1.0884 - val_accuracy: 0.5844\n",
            "Epoch 22/100\n",
            "23254/23254 [==============================] - 21s 894us/step - loss: 1.0224 - accuracy: 0.6215 - val_loss: 1.0931 - val_accuracy: 0.5983\n",
            "Epoch 23/100\n",
            "23254/23254 [==============================] - 21s 897us/step - loss: 0.9997 - accuracy: 0.6304 - val_loss: 1.0904 - val_accuracy: 0.6002\n",
            "Epoch 24/100\n",
            "23254/23254 [==============================] - 21s 895us/step - loss: 0.9595 - accuracy: 0.6495 - val_loss: 1.0738 - val_accuracy: 0.5967\n",
            "Epoch 25/100\n",
            "23254/23254 [==============================] - 21s 898us/step - loss: 0.9302 - accuracy: 0.6594 - val_loss: 1.0280 - val_accuracy: 0.6188\n",
            "Epoch 26/100\n",
            "23254/23254 [==============================] - 21s 894us/step - loss: 0.8783 - accuracy: 0.6774 - val_loss: 1.1224 - val_accuracy: 0.6076\n",
            "Epoch 27/100\n",
            "23254/23254 [==============================] - 21s 894us/step - loss: 0.8390 - accuracy: 0.6947 - val_loss: 1.1009 - val_accuracy: 0.6188\n",
            "Epoch 28/100\n",
            "23254/23254 [==============================] - 21s 894us/step - loss: 0.7787 - accuracy: 0.7167 - val_loss: 1.0834 - val_accuracy: 0.6219\n",
            "Epoch 29/100\n",
            "23254/23254 [==============================] - 21s 897us/step - loss: 0.7354 - accuracy: 0.7323 - val_loss: 1.1112 - val_accuracy: 0.6296\n",
            "Epoch 30/100\n",
            "23254/23254 [==============================] - 21s 895us/step - loss: 0.6954 - accuracy: 0.7510 - val_loss: 1.1016 - val_accuracy: 0.6204\n",
            "Epoch 31/100\n",
            "23254/23254 [==============================] - 21s 896us/step - loss: 0.6256 - accuracy: 0.7772 - val_loss: 1.1376 - val_accuracy: 0.6351\n",
            "Epoch 32/100\n",
            "23254/23254 [==============================] - 21s 897us/step - loss: 0.5737 - accuracy: 0.7980 - val_loss: 1.1198 - val_accuracy: 0.6308\n",
            "Epoch 33/100\n",
            "23254/23254 [==============================] - 21s 894us/step - loss: 0.5353 - accuracy: 0.8129 - val_loss: 1.1721 - val_accuracy: 0.6258\n",
            "Epoch 34/100\n",
            "23254/23254 [==============================] - 21s 895us/step - loss: 0.5022 - accuracy: 0.8252 - val_loss: 1.1565 - val_accuracy: 0.6389\n",
            "Epoch 35/100\n",
            "23254/23254 [==============================] - 21s 895us/step - loss: 0.4647 - accuracy: 0.8364 - val_loss: 1.2400 - val_accuracy: 0.6335\n",
            "Epoch 36/100\n",
            "23254/23254 [==============================] - 21s 894us/step - loss: 0.4330 - accuracy: 0.8485 - val_loss: 1.2682 - val_accuracy: 0.6351\n",
            "Epoch 37/100\n",
            "23254/23254 [==============================] - 21s 897us/step - loss: 0.4029 - accuracy: 0.8622 - val_loss: 1.3148 - val_accuracy: 0.6258\n",
            "Epoch 38/100\n",
            "23254/23254 [==============================] - 21s 896us/step - loss: 0.3733 - accuracy: 0.8720 - val_loss: 1.3422 - val_accuracy: 0.6385\n",
            "Epoch 39/100\n",
            "23254/23254 [==============================] - 21s 894us/step - loss: 0.3421 - accuracy: 0.8854 - val_loss: 1.4100 - val_accuracy: 0.6347\n",
            "Epoch 40/100\n",
            "23254/23254 [==============================] - 21s 894us/step - loss: 0.3131 - accuracy: 0.8934 - val_loss: 1.3923 - val_accuracy: 0.6397\n",
            "Epoch 41/100\n",
            "23254/23254 [==============================] - 21s 894us/step - loss: 0.2906 - accuracy: 0.9014 - val_loss: 1.4824 - val_accuracy: 0.6304\n",
            "Epoch 42/100\n",
            "23254/23254 [==============================] - 21s 897us/step - loss: 0.2832 - accuracy: 0.9039 - val_loss: 1.4675 - val_accuracy: 0.6265\n",
            "Epoch 43/100\n",
            "23254/23254 [==============================] - 21s 895us/step - loss: 0.2681 - accuracy: 0.9118 - val_loss: 1.4733 - val_accuracy: 0.6378\n",
            "Epoch 44/100\n",
            "23254/23254 [==============================] - 21s 897us/step - loss: 0.2469 - accuracy: 0.9173 - val_loss: 1.5787 - val_accuracy: 0.6281\n",
            "Epoch 45/100\n",
            "23254/23254 [==============================] - 21s 898us/step - loss: 0.2328 - accuracy: 0.9222 - val_loss: 1.5644 - val_accuracy: 0.6200\n",
            "Epoch 46/100\n",
            "23254/23254 [==============================] - 21s 899us/step - loss: 0.2064 - accuracy: 0.9311 - val_loss: 1.5566 - val_accuracy: 0.6296\n",
            "Epoch 47/100\n",
            "23254/23254 [==============================] - 21s 897us/step - loss: 0.2094 - accuracy: 0.9308 - val_loss: 1.6075 - val_accuracy: 0.6289\n",
            "Epoch 48/100\n",
            "23254/23254 [==============================] - 21s 895us/step - loss: 0.1837 - accuracy: 0.9383 - val_loss: 1.7012 - val_accuracy: 0.6393\n",
            "Epoch 49/100\n",
            "23254/23254 [==============================] - 21s 897us/step - loss: 0.1849 - accuracy: 0.9379 - val_loss: 1.6716 - val_accuracy: 0.6339\n",
            "Epoch 50/100\n",
            "23254/23254 [==============================] - 21s 897us/step - loss: 0.1774 - accuracy: 0.9410 - val_loss: 1.6343 - val_accuracy: 0.6316\n",
            "Epoch 51/100\n",
            "23254/23254 [==============================] - 21s 897us/step - loss: 0.1705 - accuracy: 0.9433 - val_loss: 1.7393 - val_accuracy: 0.6339\n",
            "Epoch 52/100\n",
            "23254/23254 [==============================] - 21s 895us/step - loss: 0.1667 - accuracy: 0.9436 - val_loss: 1.6702 - val_accuracy: 0.6320\n",
            "Epoch 53/100\n",
            "23254/23254 [==============================] - 21s 896us/step - loss: 0.1450 - accuracy: 0.9508 - val_loss: 1.7863 - val_accuracy: 0.6366\n",
            "Epoch 54/100\n",
            "23254/23254 [==============================] - 21s 896us/step - loss: 0.1502 - accuracy: 0.9511 - val_loss: 1.8514 - val_accuracy: 0.6246\n",
            "Epoch 55/100\n",
            "23254/23254 [==============================] - 21s 896us/step - loss: 0.1373 - accuracy: 0.9545 - val_loss: 1.8042 - val_accuracy: 0.6300\n",
            "Epoch 56/100\n",
            "23254/23254 [==============================] - 21s 894us/step - loss: 0.1353 - accuracy: 0.9554 - val_loss: 1.8999 - val_accuracy: 0.6339\n",
            "Epoch 57/100\n",
            "23254/23254 [==============================] - 21s 894us/step - loss: 0.1303 - accuracy: 0.9586 - val_loss: 1.9344 - val_accuracy: 0.6366\n",
            "Epoch 58/100\n",
            "23254/23254 [==============================] - 21s 896us/step - loss: 0.1167 - accuracy: 0.9622 - val_loss: 1.9416 - val_accuracy: 0.6358\n",
            "Epoch 59/100\n",
            "23254/23254 [==============================] - 21s 897us/step - loss: 0.1133 - accuracy: 0.9638 - val_loss: 1.9282 - val_accuracy: 0.6339\n",
            "Epoch 60/100\n",
            "23254/23254 [==============================] - 21s 895us/step - loss: 0.1129 - accuracy: 0.9636 - val_loss: 1.9470 - val_accuracy: 0.6459\n",
            "Epoch 61/100\n",
            "23254/23254 [==============================] - 21s 896us/step - loss: 0.1076 - accuracy: 0.9650 - val_loss: 1.9145 - val_accuracy: 0.6382\n",
            "Epoch 62/100\n",
            "23254/23254 [==============================] - 21s 898us/step - loss: 0.1063 - accuracy: 0.9667 - val_loss: 1.8907 - val_accuracy: 0.6409\n",
            "Epoch 63/100\n",
            "23254/23254 [==============================] - 21s 895us/step - loss: 0.1121 - accuracy: 0.9638 - val_loss: 1.9001 - val_accuracy: 0.6405\n",
            "Epoch 64/100\n",
            "23254/23254 [==============================] - 21s 894us/step - loss: 0.0993 - accuracy: 0.9663 - val_loss: 1.9530 - val_accuracy: 0.6382\n",
            "Epoch 65/100\n",
            "23254/23254 [==============================] - 21s 895us/step - loss: 0.1030 - accuracy: 0.9657 - val_loss: 1.9574 - val_accuracy: 0.6269\n",
            "Epoch 66/100\n",
            "23254/23254 [==============================] - 21s 894us/step - loss: 0.0867 - accuracy: 0.9708 - val_loss: 1.9811 - val_accuracy: 0.6416\n",
            "Epoch 67/100\n",
            "23254/23254 [==============================] - 21s 894us/step - loss: 0.0957 - accuracy: 0.9681 - val_loss: 2.0072 - val_accuracy: 0.6296\n",
            "Epoch 68/100\n",
            "23254/23254 [==============================] - 21s 894us/step - loss: 0.0907 - accuracy: 0.9707 - val_loss: 1.9638 - val_accuracy: 0.6339\n",
            "Epoch 69/100\n",
            "23254/23254 [==============================] - 21s 896us/step - loss: 0.0895 - accuracy: 0.9716 - val_loss: 2.0091 - val_accuracy: 0.6393\n",
            "Epoch 70/100\n",
            "23254/23254 [==============================] - 21s 895us/step - loss: 0.0893 - accuracy: 0.9722 - val_loss: 2.1110 - val_accuracy: 0.6246\n",
            "Epoch 71/100\n",
            "23254/23254 [==============================] - 21s 896us/step - loss: 0.0881 - accuracy: 0.9728 - val_loss: 1.8518 - val_accuracy: 0.6447\n",
            "Epoch 72/100\n",
            "23254/23254 [==============================] - 21s 895us/step - loss: 0.0772 - accuracy: 0.9732 - val_loss: 2.0682 - val_accuracy: 0.6343\n",
            "Epoch 73/100\n",
            "23254/23254 [==============================] - 21s 895us/step - loss: 0.0767 - accuracy: 0.9732 - val_loss: 2.0818 - val_accuracy: 0.6331\n",
            "Epoch 74/100\n",
            "23254/23254 [==============================] - 21s 899us/step - loss: 0.0786 - accuracy: 0.9741 - val_loss: 2.1679 - val_accuracy: 0.6347\n",
            "Epoch 75/100\n",
            "23254/23254 [==============================] - 21s 895us/step - loss: 0.0761 - accuracy: 0.9741 - val_loss: 2.1976 - val_accuracy: 0.6382\n",
            "Epoch 76/100\n",
            "23254/23254 [==============================] - 21s 899us/step - loss: 0.0711 - accuracy: 0.9766 - val_loss: 2.2634 - val_accuracy: 0.6370\n",
            "Epoch 77/100\n",
            "23254/23254 [==============================] - 21s 895us/step - loss: 0.0773 - accuracy: 0.9736 - val_loss: 2.0094 - val_accuracy: 0.6471\n",
            "Epoch 78/100\n",
            "23254/23254 [==============================] - 21s 895us/step - loss: 0.0687 - accuracy: 0.9769 - val_loss: 2.2940 - val_accuracy: 0.6455\n",
            "Epoch 79/100\n",
            "23254/23254 [==============================] - 21s 896us/step - loss: 0.0714 - accuracy: 0.9771 - val_loss: 2.2051 - val_accuracy: 0.6254\n",
            "Epoch 80/100\n",
            "23254/23254 [==============================] - 21s 896us/step - loss: 0.0671 - accuracy: 0.9780 - val_loss: 2.1053 - val_accuracy: 0.6320\n",
            "Epoch 81/100\n",
            "23254/23254 [==============================] - 21s 895us/step - loss: 0.0716 - accuracy: 0.9771 - val_loss: 2.0903 - val_accuracy: 0.6440\n",
            "Epoch 82/100\n",
            "23254/23254 [==============================] - 21s 896us/step - loss: 0.0688 - accuracy: 0.9762 - val_loss: 2.2313 - val_accuracy: 0.6443\n",
            "Epoch 83/100\n",
            "23254/23254 [==============================] - 21s 897us/step - loss: 0.0661 - accuracy: 0.9782 - val_loss: 2.2324 - val_accuracy: 0.6420\n",
            "Epoch 84/100\n",
            "23254/23254 [==============================] - 21s 895us/step - loss: 0.0652 - accuracy: 0.9783 - val_loss: 2.2973 - val_accuracy: 0.6405\n",
            "Epoch 85/100\n",
            "23254/23254 [==============================] - 21s 897us/step - loss: 0.0625 - accuracy: 0.9796 - val_loss: 2.2604 - val_accuracy: 0.6385\n",
            "Epoch 86/100\n",
            "23254/23254 [==============================] - 21s 896us/step - loss: 0.0613 - accuracy: 0.9796 - val_loss: 2.3260 - val_accuracy: 0.6401\n",
            "Epoch 87/100\n",
            "23254/23254 [==============================] - 21s 895us/step - loss: 0.0621 - accuracy: 0.9793 - val_loss: 2.2703 - val_accuracy: 0.6440\n",
            "Epoch 88/100\n",
            "23254/23254 [==============================] - 21s 896us/step - loss: 0.0633 - accuracy: 0.9791 - val_loss: 2.1395 - val_accuracy: 0.6358\n",
            "Epoch 89/100\n",
            "23254/23254 [==============================] - 21s 898us/step - loss: 0.0608 - accuracy: 0.9812 - val_loss: 2.1584 - val_accuracy: 0.6370\n",
            "Epoch 90/100\n",
            "23254/23254 [==============================] - 21s 894us/step - loss: 0.0559 - accuracy: 0.9812 - val_loss: 2.2776 - val_accuracy: 0.6351\n",
            "Epoch 91/100\n",
            "23254/23254 [==============================] - 21s 899us/step - loss: 0.0550 - accuracy: 0.9817 - val_loss: 2.3242 - val_accuracy: 0.6347\n",
            "Epoch 92/100\n",
            "23254/23254 [==============================] - 21s 895us/step - loss: 0.0529 - accuracy: 0.9835 - val_loss: 2.3347 - val_accuracy: 0.6378\n",
            "Epoch 93/100\n",
            "23254/23254 [==============================] - 21s 894us/step - loss: 0.0554 - accuracy: 0.9816 - val_loss: 2.1923 - val_accuracy: 0.6312\n",
            "Epoch 94/100\n",
            "23254/23254 [==============================] - 21s 897us/step - loss: 0.0528 - accuracy: 0.9835 - val_loss: 2.3232 - val_accuracy: 0.6366\n",
            "Epoch 95/100\n",
            "23254/23254 [==============================] - 21s 895us/step - loss: 0.0542 - accuracy: 0.9817 - val_loss: 2.1232 - val_accuracy: 0.6324\n",
            "Epoch 96/100\n",
            "23254/23254 [==============================] - 21s 895us/step - loss: 0.0549 - accuracy: 0.9808 - val_loss: 2.1932 - val_accuracy: 0.6389\n",
            "Epoch 97/100\n",
            "23254/23254 [==============================] - 21s 894us/step - loss: 0.0507 - accuracy: 0.9831 - val_loss: 2.2709 - val_accuracy: 0.6354\n",
            "Epoch 98/100\n",
            "23254/23254 [==============================] - 21s 898us/step - loss: 0.0477 - accuracy: 0.9839 - val_loss: 2.3357 - val_accuracy: 0.6362\n",
            "Epoch 99/100\n",
            "23254/23254 [==============================] - 21s 895us/step - loss: 0.0510 - accuracy: 0.9830 - val_loss: 2.2250 - val_accuracy: 0.6432\n",
            "Epoch 100/100\n",
            "23254/23254 [==============================] - 21s 897us/step - loss: 0.0525 - accuracy: 0.9833 - val_loss: 2.3065 - val_accuracy: 0.6424\n"
          ],
          "name": "stdout"
        },
        {
          "output_type": "execute_result",
          "data": {
            "text/plain": [
              "<keras.callbacks.callbacks.History at 0x7f31c7aede10>"
            ]
          },
          "metadata": {
            "tags": []
          },
          "execution_count": 15
        }
      ]
    },
    {
      "cell_type": "code",
      "metadata": {
        "id": "uq4O41dkOlOC",
        "colab_type": "code",
        "colab": {
          "base_uri": "https://localhost:8080/",
          "height": 1000
        },
        "outputId": "23760f25-6e1c-467d-d332-a6c01ba70e73"
      },
      "source": [
        "model.summary()"
      ],
      "execution_count": 16,
      "outputs": [
        {
          "output_type": "stream",
          "text": [
            "Model: \"sequential_1\"\n",
            "_________________________________________________________________\n",
            "Layer (type)                 Output Shape              Param #   \n",
            "=================================================================\n",
            "conv2d_1 (Conv2D)            (None, 48, 48, 64)        640       \n",
            "_________________________________________________________________\n",
            "batch_normalization_1 (Batch (None, 48, 48, 64)        256       \n",
            "_________________________________________________________________\n",
            "conv2d_2 (Conv2D)            (None, 48, 48, 64)        36928     \n",
            "_________________________________________________________________\n",
            "batch_normalization_2 (Batch (None, 48, 48, 64)        256       \n",
            "_________________________________________________________________\n",
            "max_pooling2d_1 (MaxPooling2 (None, 24, 24, 64)        0         \n",
            "_________________________________________________________________\n",
            "dropout_1 (Dropout)          (None, 24, 24, 64)        0         \n",
            "_________________________________________________________________\n",
            "conv2d_3 (Conv2D)            (None, 24, 24, 128)       73856     \n",
            "_________________________________________________________________\n",
            "batch_normalization_3 (Batch (None, 24, 24, 128)       512       \n",
            "_________________________________________________________________\n",
            "conv2d_4 (Conv2D)            (None, 24, 24, 128)       147584    \n",
            "_________________________________________________________________\n",
            "batch_normalization_4 (Batch (None, 24, 24, 128)       512       \n",
            "_________________________________________________________________\n",
            "max_pooling2d_2 (MaxPooling2 (None, 12, 12, 128)       0         \n",
            "_________________________________________________________________\n",
            "dropout_2 (Dropout)          (None, 12, 12, 128)       0         \n",
            "_________________________________________________________________\n",
            "conv2d_5 (Conv2D)            (None, 12, 12, 256)       295168    \n",
            "_________________________________________________________________\n",
            "batch_normalization_5 (Batch (None, 12, 12, 256)       1024      \n",
            "_________________________________________________________________\n",
            "conv2d_6 (Conv2D)            (None, 12, 12, 256)       590080    \n",
            "_________________________________________________________________\n",
            "batch_normalization_6 (Batch (None, 12, 12, 256)       1024      \n",
            "_________________________________________________________________\n",
            "conv2d_7 (Conv2D)            (None, 12, 12, 256)       590080    \n",
            "_________________________________________________________________\n",
            "batch_normalization_7 (Batch (None, 12, 12, 256)       1024      \n",
            "_________________________________________________________________\n",
            "max_pooling2d_3 (MaxPooling2 (None, 6, 6, 256)         0         \n",
            "_________________________________________________________________\n",
            "dropout_3 (Dropout)          (None, 6, 6, 256)         0         \n",
            "_________________________________________________________________\n",
            "conv2d_8 (Conv2D)            (None, 6, 6, 512)         1180160   \n",
            "_________________________________________________________________\n",
            "batch_normalization_8 (Batch (None, 6, 6, 512)         2048      \n",
            "_________________________________________________________________\n",
            "conv2d_9 (Conv2D)            (None, 6, 6, 512)         2359808   \n",
            "_________________________________________________________________\n",
            "batch_normalization_9 (Batch (None, 6, 6, 512)         2048      \n",
            "_________________________________________________________________\n",
            "conv2d_10 (Conv2D)           (None, 6, 6, 512)         2359808   \n",
            "_________________________________________________________________\n",
            "batch_normalization_10 (Batc (None, 6, 6, 512)         2048      \n",
            "_________________________________________________________________\n",
            "max_pooling2d_4 (MaxPooling2 (None, 3, 3, 512)         0         \n",
            "_________________________________________________________________\n",
            "dropout_4 (Dropout)          (None, 3, 3, 512)         0         \n",
            "_________________________________________________________________\n",
            "conv2d_11 (Conv2D)           (None, 3, 3, 512)         2359808   \n",
            "_________________________________________________________________\n",
            "batch_normalization_11 (Batc (None, 3, 3, 512)         2048      \n",
            "_________________________________________________________________\n",
            "conv2d_12 (Conv2D)           (None, 3, 3, 512)         2359808   \n",
            "_________________________________________________________________\n",
            "batch_normalization_12 (Batc (None, 3, 3, 512)         2048      \n",
            "_________________________________________________________________\n",
            "conv2d_13 (Conv2D)           (None, 3, 3, 512)         2359808   \n",
            "_________________________________________________________________\n",
            "batch_normalization_13 (Batc (None, 3, 3, 512)         2048      \n",
            "_________________________________________________________________\n",
            "max_pooling2d_5 (MaxPooling2 (None, 1, 1, 512)         0         \n",
            "_________________________________________________________________\n",
            "dropout_5 (Dropout)          (None, 1, 1, 512)         0         \n",
            "_________________________________________________________________\n",
            "flatten_1 (Flatten)          (None, 512)               0         \n",
            "_________________________________________________________________\n",
            "dense_1 (Dense)              (None, 512)               262656    \n",
            "_________________________________________________________________\n",
            "activation_1 (Activation)    (None, 512)               0         \n",
            "_________________________________________________________________\n",
            "dropout_6 (Dropout)          (None, 512)               0         \n",
            "_________________________________________________________________\n",
            "dense_2 (Dense)              (None, 256)               131328    \n",
            "_________________________________________________________________\n",
            "activation_2 (Activation)    (None, 256)               0         \n",
            "_________________________________________________________________\n",
            "dropout_7 (Dropout)          (None, 256)               0         \n",
            "_________________________________________________________________\n",
            "dense_3 (Dense)              (None, 7)                 1799      \n",
            "=================================================================\n",
            "Total params: 15,126,215\n",
            "Trainable params: 15,117,767\n",
            "Non-trainable params: 8,448\n",
            "_________________________________________________________________\n"
          ],
          "name": "stdout"
        }
      ]
    },
    {
      "cell_type": "code",
      "metadata": {
        "id": "irHepK4pfoxI",
        "colab_type": "code",
        "colab": {
          "base_uri": "https://localhost:8080/",
          "height": 50
        },
        "outputId": "d9cf75c7-6c6c-48a4-d325-df4b84d4c8b2"
      },
      "source": [
        "model.evaluate(x_test,y_test,batch_size = 150,verbose=1)"
      ],
      "execution_count": 17,
      "outputs": [
        {
          "output_type": "stream",
          "text": [
            "2871/2871 [==============================] - 1s 396us/step\n"
          ],
          "name": "stdout"
        },
        {
          "output_type": "execute_result",
          "data": {
            "text/plain": [
              "[2.4327186663073554, 0.6314873099327087]"
            ]
          },
          "metadata": {
            "tags": []
          },
          "execution_count": 17
        }
      ]
    },
    {
      "cell_type": "code",
      "metadata": {
        "id": "KGU07EDvf1oy",
        "colab_type": "code",
        "colab": {
          "base_uri": "https://localhost:8080/",
          "height": 188
        },
        "outputId": "c679210a-e954-4cc8-b8a3-2eab4b9ae537"
      },
      "source": [
        "for i in range(6):\n",
        "    plt.subplot(3,3,i+1)\n",
        "    plt.axis('off')\n",
        "    plt.imshow(X_test[i],cmap = plt.get_cmap('gray'))\n",
        "    img = np.resize(x_test[i],(1,48,48,1))\n",
        "    pred_id = np.argmax(model.predict(img))\n",
        "    #print(pred_id,np.argmax(y_test[i])\n",
        "    plt.title(emotions[pred_id])"
      ],
      "execution_count": 25,
      "outputs": [
        {
          "output_type": "display_data",
          "data": {
            "image/png": "[encoded data removed]",
            "text/plain": [
              "<Figure size 432x288 with 6 Axes>"
            ]
          },
          "metadata": {
            "tags": [],
            "needs_background": "light"
          }
        }
      ]
    },
    {
      "cell_type": "code",
      "metadata": {
        "id": "PBHdQ1xTf631",
        "colab_type": "code",
        "colab": {}
      },
      "source": [
        "model.save(\"fer_model.h5\")"
      ],
      "execution_count": 0,
      "outputs": []
    },
    {
      "cell_type": "code",
      "metadata": {
        "id": "z-HZgFhDmRPp",
        "colab_type": "code",
        "colab": {
          "base_uri": "https://localhost:8080/",
          "height": 433
        },
        "outputId": "c396dab9-fd1f-41a3-f6e2-ac4dfb1e6553"
      },
      "source": [
        "from google.colab import files\n",
        "files.download('fer_model.h5')"
      ],
      "execution_count": 31,
      "outputs": [
        {
          "output_type": "stream",
          "text": [
            "----------------------------------------\n",
            "Exception happened during processing of request from ('::ffff:127.0.0.1', 41564, 0, 0)\n",
            "Traceback (most recent call last):\n",
            "  File \"/usr/lib/python3.6/socketserver.py\", line 320, in _handle_request_noblock\n",
            "    self.process_request(request, client_address)\n",
            "  File \"/usr/lib/python3.6/socketserver.py\", line 351, in process_request\n",
            "    self.finish_request(request, client_address)\n",
            "  File \"/usr/lib/python3.6/socketserver.py\", line 364, in finish_request\n",
            "    self.RequestHandlerClass(request, client_address, self)\n",
            "  File \"/usr/lib/python3.6/socketserver.py\", line 724, in __init__\n",
            "    self.handle()\n",
            "  File \"/usr/lib/python3.6/http/server.py\", line 418, in handle\n",
            "    self.handle_one_request()\n",
            "  File \"/usr/lib/python3.6/http/server.py\", line 406, in handle_one_request\n",
            "    method()\n",
            "  File \"/usr/lib/python3.6/http/server.py\", line 639, in do_GET\n",
            "    self.copyfile(f, self.wfile)\n",
            "  File \"/usr/lib/python3.6/http/server.py\", line 800, in copyfile\n",
            "    shutil.copyfileobj(source, outputfile)\n",
            "  File \"/usr/lib/python3.6/shutil.py\", line 82, in copyfileobj\n",
            "    fdst.write(buf)\n",
            "  File \"/usr/lib/python3.6/socketserver.py\", line 803, in write\n",
            "    self._sock.sendall(b)\n",
            "ConnectionResetError: [Errno 104] Connection reset by peer\n",
            "----------------------------------------\n"
          ],
          "name": "stderr"
        }
      ]
    },
    {
      "cell_type": "code",
      "metadata": {
        "id": "Il7fou36nJqW",
        "colab_type": "code",
        "colab": {}
      },
      "source": [
        ""
      ],
      "execution_count": 0,
      "outputs": []
    }
  ]
}