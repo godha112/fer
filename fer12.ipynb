{
  "nbformat": 4,
  "nbformat_minor": 0,
  "metadata": {
    "colab": {
      "name": "fer12.ipynb",
      "provenance": [],
      "collapsed_sections": [],
      "authorship_tag": "ABX9TyO9gyjaqSMYh17GgK0rRZXD",
      "include_colab_link": true
    },
    "kernelspec": {
      "name": "python3",
      "display_name": "Python 3"
    },
    "accelerator": "GPU"
  },
  "cells": [
    {
      "cell_type": "markdown",
      "metadata": {
        "id": "view-in-github",
        "colab_type": "text"
      },
      "source": [
        "<a href=\"https://colab.research.google.com/github/godha112/fer/blob/master/fer12.ipynb\" target=\"_parent\"><img src=\"https://colab.research.google.com/assets/colab-badge.svg\" alt=\"Open In Colab\"/></a>"
      ]
    },
    {
      "cell_type": "code",
      "metadata": {
        "id": "tc6a3ABa4eyE",
        "colab_type": "code",
        "outputId": "9b0c8a7f-9956-49a7-a7e8-e8d5084fe323",
        "colab": {
          "base_uri": "https://localhost:8080/",
          "height": 35
        }
      },
      "source": [
        "import numpy as np\n",
        "import pandas as pd\n",
        "from matplotlib import pyplot as plt\n",
        "from keras.models import Sequential\n",
        "from keras.layers import AveragePooling2D, Dense, Activation, ZeroPadding2D, BatchNormalization, Flatten, Conv2D, MaxPooling2D, Dropout\n",
        "from keras.preprocessing import image\n",
        "from keras.utils.np_utils import to_categorical\n",
        "from sklearn.model_selection import train_test_split\n",
        "from google.colab import drive"
      ],
      "execution_count": 1,
      "outputs": [
        {
          "output_type": "stream",
          "text": [
            "Using TensorFlow backend.\n"
          ],
          "name": "stderr"
        }
      ]
    },
    {
      "cell_type": "code",
      "metadata": {
        "id": "VMZtqKiV5Q8K",
        "colab_type": "code",
        "outputId": "fc9bf66e-e120-4a63-d382-fabde7853801",
        "colab": {
          "base_uri": "https://localhost:8080/",
          "height": 126
        }
      },
      "source": [
        "drive.mount('/content/drive')"
      ],
      "execution_count": 2,
      "outputs": [
        {
          "output_type": "stream",
          "text": [
            "Go to this URL in a browser: https://accounts.google.com/o/oauth2/auth?client_id=947318989803-6bn6qk8qdgf4n4g3pfee6491hc0brc4i.apps.googleusercontent.com&redirect_uri=urn%3aietf%3awg%3aoauth%3a2.0%3aoob&response_type=code&scope=email%20https%3a%2f%2fwww.googleapis.com%2fauth%2fdocs.test%20https%3a%2f%2fwww.googleapis.com%2fauth%2fdrive%20https%3a%2f%2fwww.googleapis.com%2fauth%2fdrive.photos.readonly%20https%3a%2f%2fwww.googleapis.com%2fauth%2fpeopleapi.readonly\n",
            "\n",
            "Enter your authorization code:\n",
            "··········\n",
            "Mounted at /content/drive\n"
          ],
          "name": "stdout"
        }
      ]
    },
    {
      "cell_type": "code",
      "metadata": {
        "id": "ASzWLuXzJDTF",
        "colab_type": "code",
        "colab": {}
      },
      "source": [
        "path = '/content/drive/My Drive/fer data/train.csv'\n",
        "train = pd.read_csv(path) "
      ],
      "execution_count": 0,
      "outputs": []
    },
    {
      "cell_type": "code",
      "metadata": {
        "id": "uhLs5e9gLNCT",
        "colab_type": "code",
        "colab": {}
      },
      "source": [
        "emotions = ['Angry','Disgust','Fear','Happy','Sad','Surprise','Neutral']"
      ],
      "execution_count": 0,
      "outputs": []
    },
    {
      "cell_type": "code",
      "metadata": {
        "id": "rLc6XRLHNY-0",
        "colab_type": "code",
        "colab": {}
      },
      "source": [
        "def string_to_img(data):\n",
        "    datapoints = data['pixels'].tolist()\n",
        "    x = []\n",
        "    for i in datapoints:\n",
        "        xx = [int(j) for j in i.split(' ')]\n",
        "        xx = np.array(xx).reshape(48,48)\n",
        "        x.append(xx.astype('float32'))\n",
        "    x = np.array(x)\n",
        "    y = data.iloc[:,0].values\n",
        "    return x,y"
      ],
      "execution_count": 0,
      "outputs": []
    },
    {
      "cell_type": "code",
      "metadata": {
        "id": "k4a4dCxoNbes",
        "colab_type": "code",
        "colab": {}
      },
      "source": [
        "X_train, Y_train = string_to_img(train)"
      ],
      "execution_count": 0,
      "outputs": []
    },
    {
      "cell_type": "code",
      "metadata": {
        "id": "Ix8XJc7-NeBF",
        "colab_type": "code",
        "outputId": "3f7dfaf7-cb4e-4eab-fb58-6b5a5b87d502",
        "colab": {
          "base_uri": "https://localhost:8080/",
          "height": 35
        }
      },
      "source": [
        "Y_train.shape"
      ],
      "execution_count": 6,
      "outputs": [
        {
          "output_type": "execute_result",
          "data": {
            "text/plain": [
              "(28709,)"
            ]
          },
          "metadata": {
            "tags": []
          },
          "execution_count": 6
        }
      ]
    },
    {
      "cell_type": "code",
      "metadata": {
        "id": "0-Nkvk99ODgt",
        "colab_type": "code",
        "outputId": "87d91e4a-445f-4cfa-f302-64bb7c2def9d",
        "colab": {
          "base_uri": "https://localhost:8080/",
          "height": 248
        }
      },
      "source": [
        "for i in range(4):\n",
        "    plt.subplot(2,2,i+1)\n",
        "    plt.imshow(X_train[i],cmap=plt.get_cmap('gray'))\n",
        "    plt.axis('off')"
      ],
      "execution_count": 7,
      "outputs": [
        {
          "output_type": "display_data",
          "data": {
            "image/png": "[encoded data removed]",
            "text/plain": [
              "<Figure size 432x288 with 4 Axes>"
            ]
          },
          "metadata": {
            "tags": [],
            "needs_background": "light"
          }
        }
      ]
    },
    {
      "cell_type": "code",
      "metadata": {
        "id": "dlamNWOGOFrs",
        "colab_type": "code",
        "outputId": "7457fc78-f1b1-40ec-e1d5-63ffa3ee7775",
        "colab": {
          "base_uri": "https://localhost:8080/",
          "height": 124
        }
      },
      "source": [
        "X_train,X_test,Y_train,Y_test = train_test_split(X_train,Y_train,test_size=0.1,random_state=42)\n",
        "X_train,X_val,Y_train,Y_val = train_test_split(X_train,Y_train,test_size=0.1,random_state=41)\n",
        "print(X_train.shape)\n",
        "print(Y_train.shape)\n",
        "print(X_test.shape)\n",
        "print(Y_test.shape)\n",
        "print(X_val.shape)\n",
        "print(Y_val.shape)"
      ],
      "execution_count": 8,
      "outputs": [
        {
          "output_type": "stream",
          "text": [
            "(23254, 48, 48)\n",
            "(23254,)\n",
            "(2871, 48, 48)\n",
            "(2871,)\n",
            "(2584, 48, 48)\n",
            "(2584,)\n"
          ],
          "name": "stdout"
        }
      ]
    },
    {
      "cell_type": "code",
      "metadata": {
        "id": "e6Ipu9fAOIH7",
        "colab_type": "code",
        "outputId": "0657dc0d-d7a2-4266-c96a-f49696a340b8",
        "colab": {
          "base_uri": "https://localhost:8080/",
          "height": 124
        }
      },
      "source": [
        "x_train, y_train = X_train, Y_train\n",
        "x_val, y_val = X_val, Y_val\n",
        "x_test, y_test = X_test, Y_test\n",
        "print(x_train.shape)\n",
        "print(y_train.shape)\n",
        "print(x_val.shape)\n",
        "print(y_val.shape)\n",
        "print(x_test.shape)\n",
        "print(y_test.shape)"
      ],
      "execution_count": 9,
      "outputs": [
        {
          "output_type": "stream",
          "text": [
            "(23254, 48, 48)\n",
            "(23254,)\n",
            "(2584, 48, 48)\n",
            "(2584,)\n",
            "(2871, 48, 48)\n",
            "(2871,)\n"
          ],
          "name": "stdout"
        }
      ]
    },
    {
      "cell_type": "code",
      "metadata": {
        "id": "0RKiPhHYOTMy",
        "colab_type": "code",
        "outputId": "8ca353fd-8004-4642-ca74-afe8e026ebc2",
        "colab": {
          "base_uri": "https://localhost:8080/",
          "height": 52
        }
      },
      "source": [
        "x_train -= np.mean(X_train, axis=0)\n",
        "x_train /= np.std(x_train, axis=0)\n",
        "x_train = np.resize(x_train,(x_train.shape[0],48,48,1))\n",
        "y_train = to_categorical(Y_train)\n",
        "print(x_train.shape)\n",
        "print(y_train.shape)"
      ],
      "execution_count": 10,
      "outputs": [
        {
          "output_type": "stream",
          "text": [
            "(23254, 48, 48, 1)\n",
            "(23254, 7)\n"
          ],
          "name": "stdout"
        }
      ]
    },
    {
      "cell_type": "code",
      "metadata": {
        "id": "AkY9b1z6OVtp",
        "colab_type": "code",
        "outputId": "2f2039b7-804f-40d6-d0f7-b357f4f6de36",
        "colab": {
          "base_uri": "https://localhost:8080/",
          "height": 52
        }
      },
      "source": [
        "x_test -= np.mean(X_test, axis=0)\n",
        "x_test /= np.std(x_test, axis=0)\n",
        "x_test = np.resize(x_test,(x_test.shape[0],48,48,1))\n",
        "y_test = to_categorical(Y_test)\n",
        "print(x_test.shape)\n",
        "print(y_test.shape)"
      ],
      "execution_count": 11,
      "outputs": [
        {
          "output_type": "stream",
          "text": [
            "(2871, 48, 48, 1)\n",
            "(2871, 7)\n"
          ],
          "name": "stdout"
        }
      ]
    },
    {
      "cell_type": "code",
      "metadata": {
        "id": "lanfhRprdQ16",
        "colab_type": "code",
        "outputId": "f2d16575-d89b-4f7e-c281-989511145490",
        "colab": {
          "base_uri": "https://localhost:8080/",
          "height": 52
        }
      },
      "source": [
        "\n",
        "x_val -= np.mean(X_val, axis=0)\n",
        "x_val /= np.std(x_val, axis=0)\n",
        "x_val = np.resize(x_val,(x_val.shape[0],48,48,1))\n",
        "y_val = to_categorical(Y_val)\n",
        "print(x_val.shape)\n",
        "print(y_val.shape)"
      ],
      "execution_count": 12,
      "outputs": [
        {
          "output_type": "stream",
          "text": [
            "(2584, 48, 48, 1)\n",
            "(2584, 7)\n"
          ],
          "name": "stdout"
        }
      ]
    },
    {
      "cell_type": "code",
      "metadata": {
        "id": "fsiOATWAdPQH",
        "colab_type": "code",
        "colab": {}
      },
      "source": [
        "from keras.preprocessing.image import ImageDataGenerator\n",
        "\n",
        "datagen = ImageDataGenerator(\n",
        "        featurewise_center=False,  \n",
        "        samplewise_center=False,  \n",
        "        featurewise_std_normalization=False,  \n",
        "        samplewise_std_normalization=False,  \n",
        "        zca_whitening=False,  \n",
        "        rotation_range=10,  \n",
        "        zoom_range = 0.0,  \n",
        "        width_shift_range=0.1,  \n",
        "        height_shift_range=0.1,  \n",
        "        horizontal_flip=True, \n",
        "        vertical_flip=False,fill_mode = 'nearest')  \n",
        "datagen.fit(x_train)"
      ],
      "execution_count": 0,
      "outputs": []
    },
    {
      "cell_type": "code",
      "metadata": {
        "id": "TjwKCeOAfsTc",
        "colab_type": "code",
        "colab": {}
      },
      "source": [
        "train_it = datagen.flow(x_train, y_train, batch_size=64)"
      ],
      "execution_count": 0,
      "outputs": []
    },
    {
      "cell_type": "code",
      "metadata": {
        "id": "xjlKX__ngkjL",
        "colab_type": "code",
        "colab": {}
      },
      "source": [
        "from keras.callbacks import ReduceLROnPlateau\n",
        "lr_reduce = ReduceLROnPlateau(monitor='val_loss', factor=0.2, patience=5, min_lr=0.0001)"
      ],
      "execution_count": 0,
      "outputs": []
    },
    {
      "cell_type": "code",
      "metadata": {
        "id": "yfD1ySYtOaIH",
        "colab_type": "code",
        "colab": {}
      },
      "source": [
        "model = Sequential()\n",
        "\n",
        "model.add(Conv2D(filters = 64, input_shape = (48,48,1), kernel_size = 3, activation = 'relu', padding = 'same'))\n",
        "model.add(BatchNormalization())\n",
        "model.add(Conv2D(filters = 64, kernel_size = 3, activation = 'relu', padding = 'same'))\n",
        "model.add(BatchNormalization())\n",
        "model.add(MaxPooling2D(pool_size=2))\n",
        "model.add(Dropout(0.5))\n",
        "\n",
        "model.add(Conv2D(filters = 128, kernel_size = 3, activation = 'relu', padding = 'same'))\n",
        "model.add(BatchNormalization())\n",
        "model.add(Conv2D(filters = 128, kernel_size = 3, activation = 'relu', padding = 'same'))\n",
        "model.add(BatchNormalization())\n",
        "model.add(MaxPooling2D(pool_size=2))\n",
        "model.add(Dropout(0.5))\n",
        "\n",
        "model.add(Conv2D(filters = 256, kernel_size = 3, activation = 'relu', padding = 'same'))\n",
        "model.add(BatchNormalization())\n",
        "model.add(Conv2D(filters = 256, kernel_size = 3, activation = 'relu', padding = 'same'))\n",
        "model.add(BatchNormalization())\n",
        "model.add(Conv2D(filters = 256, kernel_size = 3, activation = 'relu', padding = 'same'))\n",
        "model.add(BatchNormalization())\n",
        "model.add(MaxPooling2D(pool_size=2))\n",
        "model.add(Dropout(0.5))\n",
        "\n",
        "model.add(Conv2D(filters = 512, kernel_size = 3, activation = 'relu', padding = 'same'))\n",
        "model.add(BatchNormalization())\n",
        "model.add(Conv2D(filters = 512, kernel_size = 3, activation = 'relu', padding = 'same'))\n",
        "model.add(BatchNormalization())\n",
        "model.add(Conv2D(filters = 512, kernel_size = 3, activation = 'relu', padding = 'same'))\n",
        "model.add(BatchNormalization())\n",
        "model.add(MaxPooling2D(pool_size=2))\n",
        "model.add(Dropout(0.5))\n",
        "\n",
        "model.add(Conv2D(filters = 512, kernel_size = 3, activation = 'relu', padding = 'same'))\n",
        "model.add(BatchNormalization())\n",
        "model.add(Conv2D(filters = 512, kernel_size = 3, activation = 'relu', padding = 'same'))\n",
        "model.add(BatchNormalization())\n",
        "model.add(Conv2D(filters = 512, kernel_size = 3, activation = 'relu', padding = 'same'))\n",
        "model.add(BatchNormalization())\n",
        "model.add(MaxPooling2D(pool_size=2))\n",
        "model.add(Dropout(0.5))\n",
        "\n",
        "model.add(Flatten())\n",
        "\n",
        "model.add(Dense(512))\n",
        "model.add(Activation('relu'))\n",
        "model.add(Dropout(0.5))\n",
        "\n",
        "model.add(Dense(256))\n",
        "model.add(Activation('relu'))\n",
        "model.add(Dropout(0.5))\n",
        "\n",
        "model.add(Dense(128))\n",
        "model.add(Activation('relu'))\n",
        "model.add(Dropout(0.5))\n",
        "\n",
        "model.add(Dense(7, activation = 'softmax'))"
      ],
      "execution_count": 0,
      "outputs": []
    },
    {
      "cell_type": "code",
      "metadata": {
        "id": "ryI9RiD5OfPv",
        "colab_type": "code",
        "colab": {}
      },
      "source": [
        "model.compile('adamax', loss = 'categorical_crossentropy', metrics = [\"accuracy\"])"
      ],
      "execution_count": 0,
      "outputs": []
    },
    {
      "cell_type": "code",
      "metadata": {
        "id": "q2gXnSSBOiTo",
        "colab_type": "code",
        "outputId": "cccf21f7-8908-47cb-8cbe-afcda81971c7",
        "colab": {
          "base_uri": "https://localhost:8080/",
          "height": 1000
        }
      },
      "source": [
        "model.fit_generator(train_it, steps_per_epoch=len(x_train)/64, epochs = 200, verbose=2, callbacks=[lr_reduce], validation_data = (x_val,y_val), validation_steps=len(x_val)/64)"
      ],
      "execution_count": 18,
      "outputs": [
        {
          "output_type": "stream",
          "text": [
            "Epoch 1/200\n",
            " - 31s - loss: 2.0478 - accuracy: 0.1984 - val_loss: 1.8614 - val_accuracy: 0.2438\n",
            "Epoch 2/200\n",
            " - 25s - loss: 1.8588 - accuracy: 0.2248 - val_loss: 1.8493 - val_accuracy: 0.2438\n",
            "Epoch 3/200\n",
            " - 25s - loss: 1.8316 - accuracy: 0.2342 - val_loss: 1.8276 - val_accuracy: 0.2438\n",
            "Epoch 4/200\n",
            " - 26s - loss: 1.8193 - accuracy: 0.2455 - val_loss: 1.8239 - val_accuracy: 0.2527\n",
            "Epoch 5/200\n",
            " - 25s - loss: 1.8101 - accuracy: 0.2459 - val_loss: 1.8134 - val_accuracy: 0.2438\n",
            "Epoch 6/200\n",
            " - 25s - loss: 1.7997 - accuracy: 0.2461 - val_loss: 1.8120 - val_accuracy: 0.2438\n",
            "Epoch 7/200\n",
            " - 25s - loss: 1.7758 - accuracy: 0.2611 - val_loss: 1.7307 - val_accuracy: 0.2902\n",
            "Epoch 8/200\n",
            " - 25s - loss: 1.7325 - accuracy: 0.2877 - val_loss: 1.7102 - val_accuracy: 0.2999\n",
            "Epoch 9/200\n",
            " - 25s - loss: 1.6697 - accuracy: 0.3204 - val_loss: 1.6242 - val_accuracy: 0.3127\n",
            "Epoch 10/200\n",
            " - 25s - loss: 1.5877 - accuracy: 0.3689 - val_loss: 1.4760 - val_accuracy: 0.3874\n",
            "Epoch 11/200\n",
            " - 25s - loss: 1.5281 - accuracy: 0.4012 - val_loss: 1.4532 - val_accuracy: 0.4075\n",
            "Epoch 12/200\n",
            " - 25s - loss: 1.4721 - accuracy: 0.4127 - val_loss: 1.3796 - val_accuracy: 0.4350\n",
            "Epoch 13/200\n",
            " - 25s - loss: 1.4477 - accuracy: 0.4235 - val_loss: 1.3563 - val_accuracy: 0.4361\n",
            "Epoch 14/200\n",
            " - 25s - loss: 1.4156 - accuracy: 0.4282 - val_loss: 1.3754 - val_accuracy: 0.4439\n",
            "Epoch 15/200\n",
            " - 25s - loss: 1.3913 - accuracy: 0.4431 - val_loss: 1.3045 - val_accuracy: 0.4609\n",
            "Epoch 16/200\n",
            " - 25s - loss: 1.3626 - accuracy: 0.4594 - val_loss: 1.3085 - val_accuracy: 0.4818\n",
            "Epoch 17/200\n",
            " - 25s - loss: 1.3373 - accuracy: 0.4812 - val_loss: 1.2860 - val_accuracy: 0.5112\n",
            "Epoch 18/200\n",
            " - 25s - loss: 1.3161 - accuracy: 0.4932 - val_loss: 1.2409 - val_accuracy: 0.5283\n",
            "Epoch 19/200\n",
            " - 25s - loss: 1.2957 - accuracy: 0.5086 - val_loss: 1.2293 - val_accuracy: 0.5387\n",
            "Epoch 20/200\n",
            " - 25s - loss: 1.2734 - accuracy: 0.5193 - val_loss: 1.1990 - val_accuracy: 0.5372\n",
            "Epoch 21/200\n",
            " - 25s - loss: 1.2550 - accuracy: 0.5259 - val_loss: 1.2273 - val_accuracy: 0.5391\n",
            "Epoch 22/200\n",
            " - 25s - loss: 1.2268 - accuracy: 0.5393 - val_loss: 1.1583 - val_accuracy: 0.5565\n",
            "Epoch 23/200\n",
            " - 25s - loss: 1.2229 - accuracy: 0.5418 - val_loss: 1.2205 - val_accuracy: 0.5244\n",
            "Epoch 24/200\n",
            " - 25s - loss: 1.2068 - accuracy: 0.5530 - val_loss: 1.1541 - val_accuracy: 0.5635\n",
            "Epoch 25/200\n",
            " - 25s - loss: 1.1986 - accuracy: 0.5585 - val_loss: 1.1475 - val_accuracy: 0.5646\n",
            "Epoch 26/200\n",
            " - 25s - loss: 1.1817 - accuracy: 0.5632 - val_loss: 1.1214 - val_accuracy: 0.5759\n",
            "Epoch 27/200\n",
            " - 25s - loss: 1.1694 - accuracy: 0.5725 - val_loss: 1.1292 - val_accuracy: 0.5743\n",
            "Epoch 28/200\n",
            " - 25s - loss: 1.1560 - accuracy: 0.5762 - val_loss: 1.1108 - val_accuracy: 0.5828\n",
            "Epoch 29/200\n",
            " - 25s - loss: 1.1458 - accuracy: 0.5834 - val_loss: 1.0980 - val_accuracy: 0.5851\n",
            "Epoch 30/200\n",
            " - 25s - loss: 1.1374 - accuracy: 0.5887 - val_loss: 1.1579 - val_accuracy: 0.5817\n",
            "Epoch 31/200\n",
            " - 25s - loss: 1.1187 - accuracy: 0.5939 - val_loss: 1.0831 - val_accuracy: 0.5921\n",
            "Epoch 32/200\n",
            " - 25s - loss: 1.1024 - accuracy: 0.5991 - val_loss: 1.0848 - val_accuracy: 0.6084\n",
            "Epoch 33/200\n",
            " - 26s - loss: 1.0955 - accuracy: 0.6051 - val_loss: 1.1254 - val_accuracy: 0.5913\n",
            "Epoch 34/200\n",
            " - 26s - loss: 1.0896 - accuracy: 0.6079 - val_loss: 1.0903 - val_accuracy: 0.6169\n",
            "Epoch 35/200\n",
            " - 26s - loss: 1.0767 - accuracy: 0.6138 - val_loss: 1.0799 - val_accuracy: 0.6180\n",
            "Epoch 36/200\n",
            " - 26s - loss: 1.0656 - accuracy: 0.6152 - val_loss: 1.0791 - val_accuracy: 0.6041\n",
            "Epoch 37/200\n",
            " - 26s - loss: 1.0507 - accuracy: 0.6191 - val_loss: 1.0674 - val_accuracy: 0.6026\n",
            "Epoch 38/200\n",
            " - 26s - loss: 1.0437 - accuracy: 0.6220 - val_loss: 1.0317 - val_accuracy: 0.6211\n",
            "Epoch 39/200\n",
            " - 26s - loss: 1.0282 - accuracy: 0.6298 - val_loss: 1.0450 - val_accuracy: 0.6173\n",
            "Epoch 40/200\n",
            " - 26s - loss: 1.0183 - accuracy: 0.6341 - val_loss: 1.0591 - val_accuracy: 0.6231\n",
            "Epoch 41/200\n",
            " - 26s - loss: 1.0099 - accuracy: 0.6405 - val_loss: 1.0518 - val_accuracy: 0.6080\n",
            "Epoch 42/200\n",
            " - 26s - loss: 1.0008 - accuracy: 0.6380 - val_loss: 1.0272 - val_accuracy: 0.6254\n",
            "Epoch 43/200\n",
            " - 26s - loss: 0.9919 - accuracy: 0.6427 - val_loss: 1.0327 - val_accuracy: 0.6273\n",
            "Epoch 44/200\n",
            " - 26s - loss: 0.9784 - accuracy: 0.6430 - val_loss: 1.0615 - val_accuracy: 0.6223\n",
            "Epoch 45/200\n",
            " - 26s - loss: 0.9691 - accuracy: 0.6493 - val_loss: 1.0336 - val_accuracy: 0.6188\n",
            "Epoch 46/200\n",
            " - 26s - loss: 0.9637 - accuracy: 0.6548 - val_loss: 1.0596 - val_accuracy: 0.6180\n",
            "Epoch 47/200\n",
            " - 26s - loss: 0.9555 - accuracy: 0.6546 - val_loss: 1.0021 - val_accuracy: 0.6347\n",
            "Epoch 48/200\n",
            " - 26s - loss: 0.9556 - accuracy: 0.6574 - val_loss: 1.0281 - val_accuracy: 0.6304\n",
            "Epoch 49/200\n",
            " - 26s - loss: 0.9384 - accuracy: 0.6652 - val_loss: 1.0316 - val_accuracy: 0.6300\n",
            "Epoch 50/200\n",
            " - 26s - loss: 0.9330 - accuracy: 0.6666 - val_loss: 1.0519 - val_accuracy: 0.6327\n",
            "Epoch 51/200\n",
            " - 25s - loss: 0.9163 - accuracy: 0.6671 - val_loss: 1.0323 - val_accuracy: 0.6378\n",
            "Epoch 52/200\n",
            " - 25s - loss: 0.9094 - accuracy: 0.6735 - val_loss: 1.0301 - val_accuracy: 0.6235\n",
            "Epoch 53/200\n",
            " - 25s - loss: 0.8637 - accuracy: 0.6863 - val_loss: 0.9911 - val_accuracy: 0.6536\n",
            "Epoch 54/200\n",
            " - 25s - loss: 0.8490 - accuracy: 0.6954 - val_loss: 0.9907 - val_accuracy: 0.6571\n",
            "Epoch 55/200\n",
            " - 25s - loss: 0.8428 - accuracy: 0.6946 - val_loss: 1.0002 - val_accuracy: 0.6529\n",
            "Epoch 56/200\n",
            " - 25s - loss: 0.8282 - accuracy: 0.7013 - val_loss: 1.0025 - val_accuracy: 0.6517\n",
            "Epoch 57/200\n",
            " - 25s - loss: 0.8295 - accuracy: 0.7024 - val_loss: 0.9945 - val_accuracy: 0.6552\n",
            "Epoch 58/200\n",
            " - 25s - loss: 0.8184 - accuracy: 0.7054 - val_loss: 1.0193 - val_accuracy: 0.6536\n",
            "Epoch 59/200\n",
            " - 25s - loss: 0.8165 - accuracy: 0.7049 - val_loss: 1.0175 - val_accuracy: 0.6583\n",
            "Epoch 60/200\n",
            " - 25s - loss: 0.8086 - accuracy: 0.7129 - val_loss: 1.0078 - val_accuracy: 0.6567\n",
            "Epoch 61/200\n",
            " - 25s - loss: 0.8031 - accuracy: 0.7117 - val_loss: 1.0108 - val_accuracy: 0.6544\n",
            "Epoch 62/200\n",
            " - 25s - loss: 0.7993 - accuracy: 0.7114 - val_loss: 1.0179 - val_accuracy: 0.6591\n",
            "Epoch 63/200\n",
            " - 25s - loss: 0.7984 - accuracy: 0.7133 - val_loss: 1.0051 - val_accuracy: 0.6598\n",
            "Epoch 64/200\n",
            " - 25s - loss: 0.8007 - accuracy: 0.7139 - val_loss: 1.0050 - val_accuracy: 0.6664\n",
            "Epoch 65/200\n",
            " - 25s - loss: 0.7976 - accuracy: 0.7135 - val_loss: 1.0077 - val_accuracy: 0.6622\n",
            "Epoch 66/200\n",
            " - 25s - loss: 0.7928 - accuracy: 0.7125 - val_loss: 1.0068 - val_accuracy: 0.6660\n",
            "Epoch 67/200\n",
            " - 25s - loss: 0.7893 - accuracy: 0.7151 - val_loss: 1.0051 - val_accuracy: 0.6618\n",
            "Epoch 68/200\n",
            " - 25s - loss: 0.7864 - accuracy: 0.7141 - val_loss: 1.0024 - val_accuracy: 0.6668\n",
            "Epoch 69/200\n",
            " - 25s - loss: 0.7828 - accuracy: 0.7154 - val_loss: 1.0125 - val_accuracy: 0.6622\n",
            "Epoch 70/200\n",
            " - 25s - loss: 0.7800 - accuracy: 0.7167 - val_loss: 1.0097 - val_accuracy: 0.6649\n",
            "Epoch 71/200\n",
            " - 25s - loss: 0.7811 - accuracy: 0.7189 - val_loss: 1.0081 - val_accuracy: 0.6629\n",
            "Epoch 72/200\n",
            " - 25s - loss: 0.7764 - accuracy: 0.7195 - val_loss: 1.0188 - val_accuracy: 0.6629\n",
            "Epoch 73/200\n",
            " - 25s - loss: 0.7786 - accuracy: 0.7217 - val_loss: 1.0144 - val_accuracy: 0.6664\n",
            "Epoch 74/200\n",
            " - 25s - loss: 0.7766 - accuracy: 0.7215 - val_loss: 1.0126 - val_accuracy: 0.6606\n",
            "Epoch 75/200\n",
            " - 25s - loss: 0.7790 - accuracy: 0.7207 - val_loss: 1.0064 - val_accuracy: 0.6652\n",
            "Epoch 76/200\n",
            " - 26s - loss: 0.7798 - accuracy: 0.7196 - val_loss: 1.0110 - val_accuracy: 0.6649\n",
            "Epoch 77/200\n",
            " - 26s - loss: 0.7724 - accuracy: 0.7227 - val_loss: 1.0194 - val_accuracy: 0.6656\n",
            "Epoch 78/200\n",
            " - 25s - loss: 0.7678 - accuracy: 0.7225 - val_loss: 1.0172 - val_accuracy: 0.6660\n",
            "Epoch 79/200\n",
            " - 25s - loss: 0.7665 - accuracy: 0.7243 - val_loss: 1.0116 - val_accuracy: 0.6660\n",
            "Epoch 80/200\n",
            " - 26s - loss: 0.7683 - accuracy: 0.7243 - val_loss: 1.0101 - val_accuracy: 0.6687\n",
            "Epoch 81/200\n",
            " - 26s - loss: 0.7651 - accuracy: 0.7234 - val_loss: 1.0113 - val_accuracy: 0.6664\n",
            "Epoch 82/200\n",
            " - 26s - loss: 0.7686 - accuracy: 0.7236 - val_loss: 1.0184 - val_accuracy: 0.6633\n",
            "Epoch 83/200\n",
            " - 25s - loss: 0.7651 - accuracy: 0.7246 - val_loss: 1.0111 - val_accuracy: 0.6703\n",
            "Epoch 84/200\n",
            " - 25s - loss: 0.7664 - accuracy: 0.7225 - val_loss: 1.0178 - val_accuracy: 0.6656\n",
            "Epoch 85/200\n",
            " - 26s - loss: 0.7670 - accuracy: 0.7228 - val_loss: 1.0165 - val_accuracy: 0.6641\n",
            "Epoch 86/200\n",
            " - 25s - loss: 0.7664 - accuracy: 0.7253 - val_loss: 1.0217 - val_accuracy: 0.6637\n",
            "Epoch 87/200\n",
            " - 25s - loss: 0.7635 - accuracy: 0.7265 - val_loss: 1.0254 - val_accuracy: 0.6637\n",
            "Epoch 88/200\n",
            " - 26s - loss: 0.7588 - accuracy: 0.7264 - val_loss: 1.0192 - val_accuracy: 0.6629\n",
            "Epoch 89/200\n",
            " - 26s - loss: 0.7606 - accuracy: 0.7267 - val_loss: 1.0248 - val_accuracy: 0.6652\n",
            "Epoch 90/200\n",
            " - 25s - loss: 0.7611 - accuracy: 0.7250 - val_loss: 1.0177 - val_accuracy: 0.6629\n",
            "Epoch 91/200\n",
            " - 25s - loss: 0.7624 - accuracy: 0.7267 - val_loss: 1.0167 - val_accuracy: 0.6676\n",
            "Epoch 92/200\n",
            " - 26s - loss: 0.7648 - accuracy: 0.7252 - val_loss: 1.0167 - val_accuracy: 0.6614\n",
            "Epoch 93/200\n",
            " - 25s - loss: 0.7583 - accuracy: 0.7295 - val_loss: 1.0135 - val_accuracy: 0.6664\n",
            "Epoch 94/200\n",
            " - 26s - loss: 0.7513 - accuracy: 0.7271 - val_loss: 1.0290 - val_accuracy: 0.6668\n",
            "Epoch 95/200\n",
            " - 25s - loss: 0.7450 - accuracy: 0.7309 - val_loss: 1.0226 - val_accuracy: 0.6660\n",
            "Epoch 96/200\n",
            " - 26s - loss: 0.7552 - accuracy: 0.7273 - val_loss: 1.0221 - val_accuracy: 0.6618\n",
            "Epoch 97/200\n",
            " - 26s - loss: 0.7503 - accuracy: 0.7323 - val_loss: 1.0378 - val_accuracy: 0.6641\n",
            "Epoch 98/200\n",
            " - 26s - loss: 0.7475 - accuracy: 0.7316 - val_loss: 1.0354 - val_accuracy: 0.6699\n",
            "Epoch 99/200\n",
            " - 25s - loss: 0.7556 - accuracy: 0.7295 - val_loss: 1.0243 - val_accuracy: 0.6649\n",
            "Epoch 100/200\n",
            " - 26s - loss: 0.7467 - accuracy: 0.7302 - val_loss: 1.0193 - val_accuracy: 0.6687\n",
            "Epoch 101/200\n",
            " - 26s - loss: 0.7422 - accuracy: 0.7329 - val_loss: 1.0282 - val_accuracy: 0.6637\n",
            "Epoch 102/200\n",
            " - 26s - loss: 0.7413 - accuracy: 0.7325 - val_loss: 1.0296 - val_accuracy: 0.6645\n",
            "Epoch 103/200\n",
            " - 26s - loss: 0.7432 - accuracy: 0.7339 - val_loss: 1.0307 - val_accuracy: 0.6629\n",
            "Epoch 104/200\n",
            " - 26s - loss: 0.7411 - accuracy: 0.7324 - val_loss: 1.0269 - val_accuracy: 0.6637\n",
            "Epoch 105/200\n",
            " - 25s - loss: 0.7458 - accuracy: 0.7306 - val_loss: 1.0254 - val_accuracy: 0.6676\n",
            "Epoch 106/200\n",
            " - 26s - loss: 0.7386 - accuracy: 0.7336 - val_loss: 1.0283 - val_accuracy: 0.6649\n",
            "Epoch 107/200\n",
            " - 26s - loss: 0.7412 - accuracy: 0.7303 - val_loss: 1.0355 - val_accuracy: 0.6641\n",
            "Epoch 108/200\n",
            " - 25s - loss: 0.7348 - accuracy: 0.7373 - val_loss: 1.0315 - val_accuracy: 0.6649\n",
            "Epoch 109/200\n",
            " - 25s - loss: 0.7445 - accuracy: 0.7326 - val_loss: 1.0246 - val_accuracy: 0.6695\n",
            "Epoch 110/200\n",
            " - 26s - loss: 0.7351 - accuracy: 0.7363 - val_loss: 1.0309 - val_accuracy: 0.6672\n",
            "Epoch 111/200\n",
            " - 26s - loss: 0.7365 - accuracy: 0.7340 - val_loss: 1.0306 - val_accuracy: 0.6672\n",
            "Epoch 112/200\n",
            " - 26s - loss: 0.7362 - accuracy: 0.7373 - val_loss: 1.0223 - val_accuracy: 0.6691\n",
            "Epoch 113/200\n",
            " - 26s - loss: 0.7308 - accuracy: 0.7354 - val_loss: 1.0343 - val_accuracy: 0.6680\n",
            "Epoch 114/200\n",
            " - 26s - loss: 0.7335 - accuracy: 0.7383 - val_loss: 1.0421 - val_accuracy: 0.6645\n",
            "Epoch 115/200\n",
            " - 26s - loss: 0.7407 - accuracy: 0.7360 - val_loss: 1.0314 - val_accuracy: 0.6676\n",
            "Epoch 116/200\n",
            " - 26s - loss: 0.7401 - accuracy: 0.7358 - val_loss: 1.0270 - val_accuracy: 0.6683\n",
            "Epoch 117/200\n",
            " - 26s - loss: 0.7293 - accuracy: 0.7394 - val_loss: 1.0332 - val_accuracy: 0.6660\n",
            "Epoch 118/200\n",
            " - 26s - loss: 0.7259 - accuracy: 0.7366 - val_loss: 1.0444 - val_accuracy: 0.6687\n",
            "Epoch 119/200\n",
            " - 26s - loss: 0.7184 - accuracy: 0.7406 - val_loss: 1.0379 - val_accuracy: 0.6641\n",
            "Epoch 120/200\n",
            " - 26s - loss: 0.7293 - accuracy: 0.7375 - val_loss: 1.0385 - val_accuracy: 0.6672\n",
            "Epoch 121/200\n",
            " - 26s - loss: 0.7248 - accuracy: 0.7400 - val_loss: 1.0398 - val_accuracy: 0.6637\n",
            "Epoch 122/200\n",
            " - 25s - loss: 0.7211 - accuracy: 0.7400 - val_loss: 1.0417 - val_accuracy: 0.6652\n",
            "Epoch 123/200\n",
            " - 26s - loss: 0.7237 - accuracy: 0.7417 - val_loss: 1.0389 - val_accuracy: 0.6652\n",
            "Epoch 124/200\n",
            " - 26s - loss: 0.7165 - accuracy: 0.7443 - val_loss: 1.0468 - val_accuracy: 0.6676\n",
            "Epoch 125/200\n",
            " - 26s - loss: 0.7204 - accuracy: 0.7416 - val_loss: 1.0443 - val_accuracy: 0.6691\n",
            "Epoch 126/200\n",
            " - 26s - loss: 0.7210 - accuracy: 0.7416 - val_loss: 1.0323 - val_accuracy: 0.6699\n",
            "Epoch 127/200\n",
            " - 26s - loss: 0.7223 - accuracy: 0.7409 - val_loss: 1.0437 - val_accuracy: 0.6660\n",
            "Epoch 128/200\n",
            " - 26s - loss: 0.7185 - accuracy: 0.7431 - val_loss: 1.0402 - val_accuracy: 0.6649\n",
            "Epoch 129/200\n",
            " - 25s - loss: 0.7104 - accuracy: 0.7441 - val_loss: 1.0539 - val_accuracy: 0.6656\n",
            "Epoch 130/200\n",
            " - 26s - loss: 0.7222 - accuracy: 0.7394 - val_loss: 1.0483 - val_accuracy: 0.6668\n",
            "Epoch 131/200\n",
            " - 26s - loss: 0.7187 - accuracy: 0.7406 - val_loss: 1.0478 - val_accuracy: 0.6683\n",
            "Epoch 132/200\n",
            " - 26s - loss: 0.7140 - accuracy: 0.7436 - val_loss: 1.0446 - val_accuracy: 0.6691\n",
            "Epoch 133/200\n",
            " - 26s - loss: 0.7113 - accuracy: 0.7452 - val_loss: 1.0501 - val_accuracy: 0.6691\n",
            "Epoch 134/200\n",
            " - 26s - loss: 0.7123 - accuracy: 0.7442 - val_loss: 1.0408 - val_accuracy: 0.6714\n",
            "Epoch 135/200\n",
            " - 25s - loss: 0.7075 - accuracy: 0.7481 - val_loss: 1.0492 - val_accuracy: 0.6680\n",
            "Epoch 136/200\n",
            " - 26s - loss: 0.7131 - accuracy: 0.7455 - val_loss: 1.0442 - val_accuracy: 0.6703\n",
            "Epoch 137/200\n",
            " - 26s - loss: 0.7091 - accuracy: 0.7445 - val_loss: 1.0488 - val_accuracy: 0.6683\n",
            "Epoch 138/200\n",
            " - 26s - loss: 0.7091 - accuracy: 0.7474 - val_loss: 1.0518 - val_accuracy: 0.6668\n",
            "Epoch 139/200\n",
            " - 26s - loss: 0.7115 - accuracy: 0.7454 - val_loss: 1.0488 - val_accuracy: 0.6668\n",
            "Epoch 140/200\n",
            " - 26s - loss: 0.7052 - accuracy: 0.7479 - val_loss: 1.0505 - val_accuracy: 0.6660\n",
            "Epoch 141/200\n",
            " - 26s - loss: 0.7003 - accuracy: 0.7489 - val_loss: 1.0526 - val_accuracy: 0.6683\n",
            "Epoch 142/200\n",
            " - 26s - loss: 0.7112 - accuracy: 0.7486 - val_loss: 1.0502 - val_accuracy: 0.6683\n",
            "Epoch 143/200\n",
            " - 26s - loss: 0.7021 - accuracy: 0.7471 - val_loss: 1.0491 - val_accuracy: 0.6687\n",
            "Epoch 144/200\n",
            " - 26s - loss: 0.7060 - accuracy: 0.7464 - val_loss: 1.0594 - val_accuracy: 0.6691\n",
            "Epoch 145/200\n",
            " - 26s - loss: 0.7025 - accuracy: 0.7456 - val_loss: 1.0516 - val_accuracy: 0.6672\n",
            "Epoch 146/200\n",
            " - 25s - loss: 0.6982 - accuracy: 0.7503 - val_loss: 1.0506 - val_accuracy: 0.6664\n",
            "Epoch 147/200\n",
            " - 25s - loss: 0.7009 - accuracy: 0.7492 - val_loss: 1.0604 - val_accuracy: 0.6652\n",
            "Epoch 148/200\n",
            " - 26s - loss: 0.6953 - accuracy: 0.7516 - val_loss: 1.0613 - val_accuracy: 0.6687\n",
            "Epoch 149/200\n",
            " - 26s - loss: 0.6972 - accuracy: 0.7513 - val_loss: 1.0533 - val_accuracy: 0.6691\n",
            "Epoch 150/200\n",
            " - 26s - loss: 0.6976 - accuracy: 0.7501 - val_loss: 1.0610 - val_accuracy: 0.6633\n",
            "Epoch 151/200\n",
            " - 25s - loss: 0.6987 - accuracy: 0.7503 - val_loss: 1.0474 - val_accuracy: 0.6652\n",
            "Epoch 152/200\n",
            " - 25s - loss: 0.6975 - accuracy: 0.7501 - val_loss: 1.0540 - val_accuracy: 0.6703\n",
            "Epoch 153/200\n",
            " - 26s - loss: 0.6900 - accuracy: 0.7525 - val_loss: 1.0555 - val_accuracy: 0.6722\n",
            "Epoch 154/200\n",
            " - 25s - loss: 0.6937 - accuracy: 0.7530 - val_loss: 1.0493 - val_accuracy: 0.6711\n",
            "Epoch 155/200\n",
            " - 25s - loss: 0.6924 - accuracy: 0.7532 - val_loss: 1.0615 - val_accuracy: 0.6711\n",
            "Epoch 156/200\n",
            " - 26s - loss: 0.6845 - accuracy: 0.7532 - val_loss: 1.0539 - val_accuracy: 0.6738\n",
            "Epoch 157/200\n",
            " - 26s - loss: 0.6884 - accuracy: 0.7553 - val_loss: 1.0548 - val_accuracy: 0.6722\n",
            "Epoch 158/200\n",
            " - 25s - loss: 0.6875 - accuracy: 0.7516 - val_loss: 1.0605 - val_accuracy: 0.6726\n",
            "Epoch 159/200\n",
            " - 25s - loss: 0.6940 - accuracy: 0.7536 - val_loss: 1.0627 - val_accuracy: 0.6714\n",
            "Epoch 160/200\n",
            " - 25s - loss: 0.6812 - accuracy: 0.7570 - val_loss: 1.0602 - val_accuracy: 0.6707\n",
            "Epoch 161/200\n",
            " - 25s - loss: 0.6906 - accuracy: 0.7537 - val_loss: 1.0550 - val_accuracy: 0.6699\n",
            "Epoch 162/200\n",
            " - 26s - loss: 0.6890 - accuracy: 0.7554 - val_loss: 1.0630 - val_accuracy: 0.6668\n",
            "Epoch 163/200\n",
            " - 26s - loss: 0.6810 - accuracy: 0.7577 - val_loss: 1.0681 - val_accuracy: 0.6645\n",
            "Epoch 164/200\n",
            " - 25s - loss: 0.6796 - accuracy: 0.7580 - val_loss: 1.0509 - val_accuracy: 0.6695\n",
            "Epoch 165/200\n",
            " - 25s - loss: 0.6827 - accuracy: 0.7566 - val_loss: 1.0710 - val_accuracy: 0.6734\n",
            "Epoch 166/200\n",
            " - 25s - loss: 0.6785 - accuracy: 0.7586 - val_loss: 1.0733 - val_accuracy: 0.6722\n",
            "Epoch 167/200\n",
            " - 25s - loss: 0.6763 - accuracy: 0.7560 - val_loss: 1.0758 - val_accuracy: 0.6680\n",
            "Epoch 168/200\n",
            " - 25s - loss: 0.6865 - accuracy: 0.7541 - val_loss: 1.0600 - val_accuracy: 0.6722\n",
            "Epoch 169/200\n",
            " - 25s - loss: 0.6798 - accuracy: 0.7535 - val_loss: 1.0617 - val_accuracy: 0.6741\n",
            "Epoch 170/200\n",
            " - 25s - loss: 0.6722 - accuracy: 0.7593 - val_loss: 1.0651 - val_accuracy: 0.6730\n",
            "Epoch 171/200\n",
            " - 25s - loss: 0.6788 - accuracy: 0.7604 - val_loss: 1.0739 - val_accuracy: 0.6718\n",
            "Epoch 172/200\n",
            " - 25s - loss: 0.6824 - accuracy: 0.7572 - val_loss: 1.0633 - val_accuracy: 0.6687\n",
            "Epoch 173/200\n",
            " - 25s - loss: 0.6712 - accuracy: 0.7613 - val_loss: 1.0670 - val_accuracy: 0.6703\n",
            "Epoch 174/200\n",
            " - 26s - loss: 0.6803 - accuracy: 0.7590 - val_loss: 1.0695 - val_accuracy: 0.6749\n",
            "Epoch 175/200\n",
            " - 25s - loss: 0.6648 - accuracy: 0.7657 - val_loss: 1.0751 - val_accuracy: 0.6741\n",
            "Epoch 176/200\n",
            " - 26s - loss: 0.6719 - accuracy: 0.7580 - val_loss: 1.0735 - val_accuracy: 0.6741\n",
            "Epoch 177/200\n",
            " - 26s - loss: 0.6659 - accuracy: 0.7631 - val_loss: 1.0733 - val_accuracy: 0.6699\n",
            "Epoch 178/200\n",
            " - 26s - loss: 0.6737 - accuracy: 0.7616 - val_loss: 1.0689 - val_accuracy: 0.6691\n",
            "Epoch 179/200\n",
            " - 26s - loss: 0.6754 - accuracy: 0.7592 - val_loss: 1.0640 - val_accuracy: 0.6734\n",
            "Epoch 180/200\n",
            " - 26s - loss: 0.6704 - accuracy: 0.7579 - val_loss: 1.0700 - val_accuracy: 0.6745\n",
            "Epoch 181/200\n",
            " - 26s - loss: 0.6682 - accuracy: 0.7618 - val_loss: 1.0696 - val_accuracy: 0.6780\n",
            "Epoch 182/200\n",
            " - 26s - loss: 0.6723 - accuracy: 0.7594 - val_loss: 1.0671 - val_accuracy: 0.6741\n",
            "Epoch 183/200\n",
            " - 26s - loss: 0.6709 - accuracy: 0.7616 - val_loss: 1.0627 - val_accuracy: 0.6730\n",
            "Epoch 184/200\n",
            " - 26s - loss: 0.6707 - accuracy: 0.7604 - val_loss: 1.0679 - val_accuracy: 0.6711\n",
            "Epoch 185/200\n",
            " - 26s - loss: 0.6595 - accuracy: 0.7632 - val_loss: 1.0666 - val_accuracy: 0.6714\n",
            "Epoch 186/200\n",
            " - 26s - loss: 0.6683 - accuracy: 0.7616 - val_loss: 1.0648 - val_accuracy: 0.6676\n",
            "Epoch 187/200\n",
            " - 26s - loss: 0.6662 - accuracy: 0.7618 - val_loss: 1.0740 - val_accuracy: 0.6707\n",
            "Epoch 188/200\n",
            " - 26s - loss: 0.6579 - accuracy: 0.7655 - val_loss: 1.0822 - val_accuracy: 0.6672\n",
            "Epoch 189/200\n",
            " - 26s - loss: 0.6608 - accuracy: 0.7623 - val_loss: 1.0813 - val_accuracy: 0.6734\n",
            "Epoch 190/200\n",
            " - 26s - loss: 0.6562 - accuracy: 0.7649 - val_loss: 1.0867 - val_accuracy: 0.6734\n",
            "Epoch 191/200\n",
            " - 26s - loss: 0.6527 - accuracy: 0.7648 - val_loss: 1.0858 - val_accuracy: 0.6703\n",
            "Epoch 192/200\n",
            " - 26s - loss: 0.6597 - accuracy: 0.7641 - val_loss: 1.0854 - val_accuracy: 0.6757\n",
            "Epoch 193/200\n",
            " - 26s - loss: 0.6610 - accuracy: 0.7648 - val_loss: 1.0670 - val_accuracy: 0.6722\n",
            "Epoch 194/200\n",
            " - 26s - loss: 0.6546 - accuracy: 0.7677 - val_loss: 1.0772 - val_accuracy: 0.6738\n",
            "Epoch 195/200\n",
            " - 26s - loss: 0.6637 - accuracy: 0.7643 - val_loss: 1.0752 - val_accuracy: 0.6707\n",
            "Epoch 196/200\n",
            " - 26s - loss: 0.6561 - accuracy: 0.7663 - val_loss: 1.0864 - val_accuracy: 0.6718\n",
            "Epoch 197/200\n",
            " - 26s - loss: 0.6603 - accuracy: 0.7644 - val_loss: 1.0763 - val_accuracy: 0.6730\n",
            "Epoch 198/200\n",
            " - 26s - loss: 0.6518 - accuracy: 0.7689 - val_loss: 1.0937 - val_accuracy: 0.6699\n",
            "Epoch 199/200\n",
            " - 26s - loss: 0.6507 - accuracy: 0.7712 - val_loss: 1.0870 - val_accuracy: 0.6695\n",
            "Epoch 200/200\n",
            " - 26s - loss: 0.6534 - accuracy: 0.7634 - val_loss: 1.0916 - val_accuracy: 0.6707\n"
          ],
          "name": "stdout"
        },
        {
          "output_type": "execute_result",
          "data": {
            "text/plain": [
              "<keras.callbacks.callbacks.History at 0x7fd12e1e92e8>"
            ]
          },
          "metadata": {
            "tags": []
          },
          "execution_count": 18
        }
      ]
    },
    {
      "cell_type": "code",
      "metadata": {
        "id": "uq4O41dkOlOC",
        "colab_type": "code",
        "outputId": "4b0ad48d-6754-46e7-dd15-33b54359222b",
        "colab": {
          "base_uri": "https://localhost:8080/",
          "height": 1000
        }
      },
      "source": [
        "model.summary()"
      ],
      "execution_count": 19,
      "outputs": [
        {
          "output_type": "stream",
          "text": [
            "Model: \"sequential_1\"\n",
            "_________________________________________________________________\n",
            "Layer (type)                 Output Shape              Param #   \n",
            "=================================================================\n",
            "conv2d_1 (Conv2D)            (None, 48, 48, 64)        640       \n",
            "_________________________________________________________________\n",
            "batch_normalization_1 (Batch (None, 48, 48, 64)        256       \n",
            "_________________________________________________________________\n",
            "conv2d_2 (Conv2D)            (None, 48, 48, 64)        36928     \n",
            "_________________________________________________________________\n",
            "batch_normalization_2 (Batch (None, 48, 48, 64)        256       \n",
            "_________________________________________________________________\n",
            "max_pooling2d_1 (MaxPooling2 (None, 24, 24, 64)        0         \n",
            "_________________________________________________________________\n",
            "dropout_1 (Dropout)          (None, 24, 24, 64)        0         \n",
            "_________________________________________________________________\n",
            "conv2d_3 (Conv2D)            (None, 24, 24, 128)       73856     \n",
            "_________________________________________________________________\n",
            "batch_normalization_3 (Batch (None, 24, 24, 128)       512       \n",
            "_________________________________________________________________\n",
            "conv2d_4 (Conv2D)            (None, 24, 24, 128)       147584    \n",
            "_________________________________________________________________\n",
            "batch_normalization_4 (Batch (None, 24, 24, 128)       512       \n",
            "_________________________________________________________________\n",
            "max_pooling2d_2 (MaxPooling2 (None, 12, 12, 128)       0         \n",
            "_________________________________________________________________\n",
            "dropout_2 (Dropout)          (None, 12, 12, 128)       0         \n",
            "_________________________________________________________________\n",
            "conv2d_5 (Conv2D)            (None, 12, 12, 256)       295168    \n",
            "_________________________________________________________________\n",
            "batch_normalization_5 (Batch (None, 12, 12, 256)       1024      \n",
            "_________________________________________________________________\n",
            "conv2d_6 (Conv2D)            (None, 12, 12, 256)       590080    \n",
            "_________________________________________________________________\n",
            "batch_normalization_6 (Batch (None, 12, 12, 256)       1024      \n",
            "_________________________________________________________________\n",
            "conv2d_7 (Conv2D)            (None, 12, 12, 256)       590080    \n",
            "_________________________________________________________________\n",
            "batch_normalization_7 (Batch (None, 12, 12, 256)       1024      \n",
            "_________________________________________________________________\n",
            "max_pooling2d_3 (MaxPooling2 (None, 6, 6, 256)         0         \n",
            "_________________________________________________________________\n",
            "dropout_3 (Dropout)          (None, 6, 6, 256)         0         \n",
            "_________________________________________________________________\n",
            "conv2d_8 (Conv2D)            (None, 6, 6, 512)         1180160   \n",
            "_________________________________________________________________\n",
            "batch_normalization_8 (Batch (None, 6, 6, 512)         2048      \n",
            "_________________________________________________________________\n",
            "conv2d_9 (Conv2D)            (None, 6, 6, 512)         2359808   \n",
            "_________________________________________________________________\n",
            "batch_normalization_9 (Batch (None, 6, 6, 512)         2048      \n",
            "_________________________________________________________________\n",
            "conv2d_10 (Conv2D)           (None, 6, 6, 512)         2359808   \n",
            "_________________________________________________________________\n",
            "batch_normalization_10 (Batc (None, 6, 6, 512)         2048      \n",
            "_________________________________________________________________\n",
            "max_pooling2d_4 (MaxPooling2 (None, 3, 3, 512)         0         \n",
            "_________________________________________________________________\n",
            "dropout_4 (Dropout)          (None, 3, 3, 512)         0         \n",
            "_________________________________________________________________\n",
            "conv2d_11 (Conv2D)           (None, 3, 3, 512)         2359808   \n",
            "_________________________________________________________________\n",
            "batch_normalization_11 (Batc (None, 3, 3, 512)         2048      \n",
            "_________________________________________________________________\n",
            "conv2d_12 (Conv2D)           (None, 3, 3, 512)         2359808   \n",
            "_________________________________________________________________\n",
            "batch_normalization_12 (Batc (None, 3, 3, 512)         2048      \n",
            "_________________________________________________________________\n",
            "conv2d_13 (Conv2D)           (None, 3, 3, 512)         2359808   \n",
            "_________________________________________________________________\n",
            "batch_normalization_13 (Batc (None, 3, 3, 512)         2048      \n",
            "_________________________________________________________________\n",
            "max_pooling2d_5 (MaxPooling2 (None, 1, 1, 512)         0         \n",
            "_________________________________________________________________\n",
            "dropout_5 (Dropout)          (None, 1, 1, 512)         0         \n",
            "_________________________________________________________________\n",
            "flatten_1 (Flatten)          (None, 512)               0         \n",
            "_________________________________________________________________\n",
            "dense_1 (Dense)              (None, 512)               262656    \n",
            "_________________________________________________________________\n",
            "activation_1 (Activation)    (None, 512)               0         \n",
            "_________________________________________________________________\n",
            "dropout_6 (Dropout)          (None, 512)               0         \n",
            "_________________________________________________________________\n",
            "dense_2 (Dense)              (None, 256)               131328    \n",
            "_________________________________________________________________\n",
            "activation_2 (Activation)    (None, 256)               0         \n",
            "_________________________________________________________________\n",
            "dropout_7 (Dropout)          (None, 256)               0         \n",
            "_________________________________________________________________\n",
            "dense_3 (Dense)              (None, 128)               32896     \n",
            "_________________________________________________________________\n",
            "activation_3 (Activation)    (None, 128)               0         \n",
            "_________________________________________________________________\n",
            "dropout_8 (Dropout)          (None, 128)               0         \n",
            "_________________________________________________________________\n",
            "dense_4 (Dense)              (None, 7)                 903       \n",
            "=================================================================\n",
            "Total params: 15,158,215\n",
            "Trainable params: 15,149,767\n",
            "Non-trainable params: 8,448\n",
            "_________________________________________________________________\n"
          ],
          "name": "stdout"
        }
      ]
    },
    {
      "cell_type": "code",
      "metadata": {
        "id": "irHepK4pfoxI",
        "colab_type": "code",
        "outputId": "f41a081e-7451-4497-b800-cae20d7cb309",
        "colab": {
          "base_uri": "https://localhost:8080/",
          "height": 52
        }
      },
      "source": [
        "model.evaluate(x_test,y_test,batch_size = 64,verbose=1)"
      ],
      "execution_count": 21,
      "outputs": [
        {
          "output_type": "stream",
          "text": [
            "2871/2871 [==============================] - 1s 315us/step\n"
          ],
          "name": "stdout"
        },
        {
          "output_type": "execute_result",
          "data": {
            "text/plain": [
              "[1.0547981427464075, 0.6572622656822205]"
            ]
          },
          "metadata": {
            "tags": []
          },
          "execution_count": 21
        }
      ]
    },
    {
      "cell_type": "code",
      "metadata": {
        "id": "KGU07EDvf1oy",
        "colab_type": "code",
        "outputId": "7ef659c2-159b-4fb6-f72d-f7f05d220d67",
        "colab": {
          "base_uri": "https://localhost:8080/",
          "height": 264
        }
      },
      "source": [
        "for i in range(25):\n",
        "    plt.subplot(5,5,i+1)\n",
        "    plt.axis('off')\n",
        "    plt.imshow(X_test[i],cmap = plt.get_cmap('gray'))\n",
        "    img = np.resize(x_test[i],(1,48,48,1))\n",
        "    pred_id = np.argmax(model.predict(img))\n",
        "    #print(pred_id,np.argmax(y_test[i]))\n",
        "    plt.title(emotions[pred_id])"
      ],
      "execution_count": 25,
      "outputs": [
        {
          "output_type": "display_data",
          "data": {
            "image/png": "[encoded data removed]",
            "text/plain": [
              "<Figure size 432x288 with 25 Axes>"
            ]
          },
          "metadata": {
            "tags": [],
            "needs_background": "light"
          }
        }
      ]
    },
    {
      "cell_type": "code",
      "metadata": {
        "id": "PBHdQ1xTf631",
        "colab_type": "code",
        "colab": {}
      },
      "source": [
        "model.save(\"fer_model3.h5\")"
      ],
      "execution_count": 0,
      "outputs": []
    },
    {
      "cell_type": "code",
      "metadata": {
        "id": "z-HZgFhDmRPp",
        "colab_type": "code",
        "outputId": "94dd348e-05ea-4d7d-9080-ce6ce84fc5a0",
        "colab": {
          "base_uri": "https://localhost:8080/",
          "height": 461
        }
      },
      "source": [
        "from google.colab import files\n",
        "files.download('fer_model2.h5')"
      ],
      "execution_count": 0,
      "outputs": [
        {
          "output_type": "stream",
          "text": [
            "----------------------------------------\n",
            "Exception happened during processing of request from ('::ffff:127.0.0.1', 56872, 0, 0)\n",
            "Traceback (most recent call last):\n",
            "  File \"/usr/lib/python3.6/socketserver.py\", line 320, in _handle_request_noblock\n",
            "    self.process_request(request, client_address)\n",
            "  File \"/usr/lib/python3.6/socketserver.py\", line 351, in process_request\n",
            "    self.finish_request(request, client_address)\n",
            "  File \"/usr/lib/python3.6/socketserver.py\", line 364, in finish_request\n",
            "    self.RequestHandlerClass(request, client_address, self)\n",
            "  File \"/usr/lib/python3.6/socketserver.py\", line 724, in __init__\n",
            "    self.handle()\n",
            "  File \"/usr/lib/python3.6/http/server.py\", line 418, in handle\n",
            "    self.handle_one_request()\n",
            "  File \"/usr/lib/python3.6/http/server.py\", line 406, in handle_one_request\n",
            "    method()\n",
            "  File \"/usr/lib/python3.6/http/server.py\", line 639, in do_GET\n",
            "    self.copyfile(f, self.wfile)\n",
            "  File \"/usr/lib/python3.6/http/server.py\", line 800, in copyfile\n",
            "    shutil.copyfileobj(source, outputfile)\n",
            "  File \"/usr/lib/python3.6/shutil.py\", line 82, in copyfileobj\n",
            "    fdst.write(buf)\n",
            "  File \"/usr/lib/python3.6/socketserver.py\", line 803, in write\n",
            "    self._sock.sendall(b)\n",
            "ConnectionResetError: [Errno 104] Connection reset by peer\n",
            "----------------------------------------\n"
          ],
          "name": "stderr"
        }
      ]
    },
    {
      "cell_type": "code",
      "metadata": {
        "id": "Il7fou36nJqW",
        "colab_type": "code",
        "colab": {}
      },
      "source": [
        ""
      ],
      "execution_count": 0,
      "outputs": []
    }
  ]
}